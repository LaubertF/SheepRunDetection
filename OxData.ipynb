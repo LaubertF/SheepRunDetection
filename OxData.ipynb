{
 "cells": [
  {
   "cell_type": "code",
   "execution_count": 23,
   "outputs": [],
   "source": [
    "import os\n",
    "\n",
    "import pandas as pd\n",
    "import matplotlib.pyplot as plt\n",
    "import steplib as msl\n",
    "import dataloader as dl\n",
    "%matplotlib inline"
   ],
   "metadata": {
    "collapsed": false,
    "ExecuteTime": {
     "end_time": "2024-04-24T11:00:07.819255500Z",
     "start_time": "2024-04-24T11:00:07.776328100Z"
    }
   },
   "id": "c26503a008ab1f84"
  },
  {
   "cell_type": "code",
   "execution_count": 24,
   "outputs": [],
   "source": [
    "all_files = dl.getOxData()"
   ],
   "metadata": {
    "collapsed": false,
    "ExecuteTime": {
     "end_time": "2024-04-24T11:00:07.843411Z",
     "start_time": "2024-04-24T11:00:07.822831600Z"
    }
   },
   "id": "e5a3648df01af3e"
  },
  {
   "cell_type": "markdown",
   "source": [],
   "metadata": {
    "collapsed": false
   },
   "id": "540006408cfc5b5f"
  },
  {
   "cell_type": "code",
   "execution_count": 32,
   "outputs": [],
   "source": [
    "import numpy as np\n",
    "end = 60000\n",
    "\n",
    "def getSteps(file, window_size, threshold):\n",
    "    file_data = pd.read_csv(file)\n",
    "\n",
    "    expected = np.where(file_data[\"annotation\"] == 1)[0]\n",
    "\n",
    "    data1 = file_data[\"x\"] ** 2 + file_data[\"y\"] ** 2 + file_data[\"z\"] ** 2\n",
    "    accelerometer = data1.apply(lambda x: x ** 0.5)\n",
    "    data1 = msl.apply_filter(accelerometer, dl.getFilterFor100hz())\n",
    "    data1 = msl.maximum_difference(data1, window_size)\n",
    "    data1 = msl.detect_outliers(data1, threshold)\n",
    "    data1 = msl.post_processing(data1, 200, 100)\n",
    "    calculated = np.where(data1 == 1)[0]\n",
    "    return calculated, expected , accelerometer\n"
   ],
   "metadata": {
    "collapsed": false,
    "ExecuteTime": {
     "end_time": "2024-04-24T11:02:28.743781Z",
     "start_time": "2024-04-24T11:02:28.739198900Z"
    }
   },
   "id": "a1227df95beb9344"
  },
  {
   "cell_type": "code",
   "execution_count": 26,
   "outputs": [],
   "source": [
    "def chart(data_in):\n",
    "    (calculated, expected, accelerometer) = data_in\n",
    "    x=range(len(accelerometer))\n",
    "    y=accelerometer\n",
    "    plt.figure(figsize=(10,5))\n",
    "    plt.plot(x,y, color='red', marker='o')\n",
    "    plt.xlabel('index')\n",
    "    plt.ylabel('magnitude')\n",
    "    #show x label every 800\n",
    "    #add rectangles\n",
    "    for e in expected:\n",
    "        plt.axvline(x =e, color ='g', label ='axvline - full height', ymin=0.5, alpha=0.8)\n",
    "    for c in calculated:\n",
    "        plt.axvline(x =c, color ='b', label ='axvline - full height', ymax=0.5, alpha=0.8)\n",
    "\n",
    "\n",
    "    plt.show()"
   ],
   "metadata": {
    "collapsed": false,
    "ExecuteTime": {
     "end_time": "2024-04-24T11:00:07.861366100Z",
     "start_time": "2024-04-24T11:00:07.845456700Z"
    }
   },
   "id": "5fc192c583576a67"
  },
  {
   "cell_type": "code",
   "execution_count": 27,
   "outputs": [],
   "source": [
    "def getGroundTruth(i):\n",
    "    file = all_files[i]\n",
    "    file_data = pd.read_csv(file)\n",
    "    expected = np.where(file_data[\"annotation\"] == 1)[0]\n",
    "    return len(expected)"
   ],
   "metadata": {
    "collapsed": false,
    "ExecuteTime": {
     "end_time": "2024-04-24T11:00:07.882488700Z",
     "start_time": "2024-04-24T11:00:07.856744500Z"
    }
   },
   "id": "2c5d9f72ad6204fa"
  },
  {
   "cell_type": "code",
   "execution_count": 28,
   "outputs": [
    {
     "data": {
      "text/plain": "'DataOx\\\\Hip_100Hz\\\\P01_hip100.csv'"
     },
     "execution_count": 28,
     "metadata": {},
     "output_type": "execute_result"
    }
   ],
   "source": [
    "all_files[0]"
   ],
   "metadata": {
    "collapsed": false,
    "ExecuteTime": {
     "end_time": "2024-04-24T11:00:07.911145600Z",
     "start_time": "2024-04-24T11:00:07.870702500Z"
    }
   },
   "id": "76d1a1d022bba7b0"
  },
  {
   "cell_type": "code",
   "execution_count": 29,
   "outputs": [],
   "source": [
    "#where name contains regular\n",
    "#all_files = [file for file in all_files if \"_Regular\" in file]"
   ],
   "metadata": {
    "collapsed": false,
    "ExecuteTime": {
     "end_time": "2024-04-24T11:00:07.912170100Z",
     "start_time": "2024-04-24T11:00:07.886100600Z"
    }
   },
   "id": "aa7431cb704aa798"
  },
  {
   "cell_type": "code",
   "execution_count": 31,
   "outputs": [
    {
     "name": "stdout",
     "output_type": "stream",
     "text": [
      "[14.4375   1.88625]\n",
      "196.07686011033454\n"
     ]
    },
    {
     "name": "stderr",
     "output_type": "stream",
     "text": [
      "C:\\Users\\trebu\\AppData\\Local\\Temp\\ipykernel_20816\\813204043.py:14: RuntimeWarning: Maximum number of iterations has been exceeded.\n",
      "  res = minimize(objective, x0, method='nelder-mead', options={'xatol': 1e-1, 'disp': True, 'maxiter': 5})\n"
     ]
    }
   ],
   "source": [
    "from statistics import mean\n",
    "from scipy.optimize import minimize\n",
    "\n",
    "def oneObjective(x,i):\n",
    "    result = getSteps(all_files[i], int(x[0]), x[1])\n",
    "    return abs(len(result[1]) - len(result[0])) / len(result[1])\n",
    "\n",
    "def objective(x):\n",
    "    return mean([oneObjective(x, i) for i in range(2, 30)])*100\n",
    "\n",
    "x0 = np.array([35, 1.2])\n",
    "res = minimize(objective, x0, method='nelder-mead', options={'xatol': 1e-1, 'disp': True, 'maxiter': 5})\n",
    "print(res.x)\n",
    "print(res.fun)"
   ],
   "metadata": {
    "collapsed": false,
    "ExecuteTime": {
     "end_time": "2024-04-24T11:02:28.736125200Z",
     "start_time": "2024-04-24T11:00:26.557271300Z"
    }
   },
   "id": "f91bd868a6e4d51e"
  },
  {
   "cell_type": "code",
   "execution_count": null,
   "outputs": [],
   "source": [
    "def oneObjective2(x,i):\n",
    "    result = getSteps(all_files[i], int(x[0]), x[1])\n",
    "    return len(result[1]) - len(result[0])"
   ],
   "metadata": {
    "collapsed": false,
    "ExecuteTime": {
     "start_time": "2024-04-24T11:00:22.355927300Z"
    }
   },
   "id": "7928666aa3567846"
  },
  {
   "cell_type": "code",
   "execution_count": null,
   "outputs": [],
   "source": [
    "\n",
    "for i in range(0, 30):\n",
    "    print(oneObjective2(res.x, i), getGroundTruth(i))"
   ],
   "metadata": {
    "collapsed": false,
    "ExecuteTime": {
     "start_time": "2024-04-24T11:00:22.357486700Z"
    }
   },
   "id": "7c22ef4e2bb09263"
  },
  {
   "cell_type": "code",
   "execution_count": 33,
   "outputs": [],
   "source": [
    "%matplotlib qt\n",
    "chart(getSteps(all_files[2],int(res.x[0]), res.x[1]))"
   ],
   "metadata": {
    "collapsed": false,
    "ExecuteTime": {
     "end_time": "2024-04-24T11:02:44.843617600Z",
     "start_time": "2024-04-24T11:02:41.524621600Z"
    }
   },
   "id": "ce2916c4a69d9311"
  },
  {
   "cell_type": "code",
   "execution_count": null,
   "outputs": [],
   "source": [
    "%matplotlib qt\n",
    "data = dl.getSheepData()\n",
    "chart(getSteps(data[0],5, 4))"
   ],
   "metadata": {
    "collapsed": false,
    "ExecuteTime": {
     "start_time": "2024-04-24T11:00:22.360040800Z"
    }
   },
   "id": "8573dfb16db005f2"
  },
  {
   "cell_type": "code",
   "execution_count": null,
   "outputs": [],
   "source": [
    "import time\n",
    "\n",
    "def getStepsWithTime(file, window_size=20, threshold=1.15):\n",
    "    start_time = time.time()\n",
    "    file_data = pd.read_csv(\"DataOx\\\\Hip_100Hz\\\\\" + file)[0:end]\n",
    "    print(\"Time taken for reading file: %s seconds\" % (time.time() - start_time))\n",
    "\n",
    "    start_time = time.time()\n",
    "    expected = np.where(file_data[\"annotation\"] == 1)[0]\n",
    "    print(\"Time taken for np.where: %s seconds\" % (time.time() - start_time))\n",
    "\n",
    "    start_time = time.time()\n",
    "    data1 = file_data[\"x\"] ** 2 + file_data[\"y\"] ** 2 + file_data[\"z\"] ** 2\n",
    "    accelerometer = data1.apply(lambda x: x ** 0.5)\n",
    "    print(\"Time taken for calculating accelerometer: %s seconds\" % (time.time() - start_time))\n",
    "\n",
    "    start_time = time.time()\n",
    "    data1 = msl.apply_filter(accelerometer, [0.0167855014066363,\t0.0470217363830679,\t0.121859539593060,\t0.198782647391950,\t0.231101150450572,\t0.198782647391950,\t0.121859539593060,\t0.0470217363830679,\t0.0167855014066363])\n",
    "    print(\"Time taken for apply_filter: %s seconds\" % (time.time() - start_time))\n",
    "\n",
    "    start_time = time.time()\n",
    "    data1 = msl.modified_pan_tompkins_scoring(data1, window_size)\n",
    "    print(\"Time taken for modified_pan_tompkins_scoring: %s seconds\" % (time.time() - start_time))\n",
    "\n",
    "    start_time = time.time()\n",
    "    data1 = msl.detect_outliers(data1, threshold)\n",
    "    print(\"Time taken for detect_outliers: %s seconds\" % (time.time() - start_time))\n",
    "\n",
    "    start_time = time.time()\n",
    "    data1 = msl.post_processing(data1, 250, 100)\n",
    "    print(\"Time taken for post_processing: %s seconds\" % (time.time() - start_time))\n",
    "\n",
    "    start_time = time.time()\n",
    "    calculated = np.where(data1 == 1)[0]\n",
    "    print(\"Time taken for final np.where: %s seconds\" % (time.time() - start_time))\n",
    "\n",
    "    return calculated, expected , accelerometer\n"
   ],
   "metadata": {
    "collapsed": false,
    "ExecuteTime": {
     "start_time": "2024-04-24T11:00:22.360548800Z"
    }
   },
   "id": "9246d415facfdfb0"
  },
  {
   "cell_type": "code",
   "execution_count": null,
   "outputs": [],
   "source": [],
   "metadata": {
    "collapsed": false,
    "ExecuteTime": {
     "start_time": "2024-04-24T11:00:22.361569Z"
    }
   },
   "id": "972de8999681dc5"
  }
 ],
 "metadata": {
  "kernelspec": {
   "display_name": "Python 3",
   "language": "python",
   "name": "python3"
  },
  "language_info": {
   "codemirror_mode": {
    "name": "ipython",
    "version": 2
   },
   "file_extension": ".py",
   "mimetype": "text/x-python",
   "name": "python",
   "nbconvert_exporter": "python",
   "pygments_lexer": "ipython2",
   "version": "2.7.6"
  }
 },
 "nbformat": 4,
 "nbformat_minor": 5
}
