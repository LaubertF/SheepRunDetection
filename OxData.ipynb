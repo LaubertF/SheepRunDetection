{
 "cells": [
  {
   "cell_type": "code",
   "execution_count": 13,
   "outputs": [],
   "source": [
    "import os\n",
    "\n",
    "import pandas as pd\n",
    "import matplotlib.pyplot as plt\n",
    "import steplib as msl\n",
    "%matplotlib inline"
   ],
   "metadata": {
    "collapsed": false,
    "ExecuteTime": {
     "end_time": "2024-04-19T13:15:24.964050Z",
     "start_time": "2024-04-19T13:15:24.923986700Z"
    }
   },
   "id": "c26503a008ab1f84"
  },
  {
   "cell_type": "code",
   "execution_count": 14,
   "outputs": [
    {
     "name": "stdout",
     "output_type": "stream",
     "text": [
      "['P01_hip100.csv', 'P02_hip100.csv', 'P03_hip100.csv', 'P04_hip100.csv', 'P05_hip100.csv', 'P06_hip100.csv', 'P07_hip100.csv', 'P08_hip100.csv', 'P09_hip100.csv', 'P10_hip100.csv', 'P11_hip100.csv', 'P12_hip100.csv', 'P13_hip100.csv', 'P14_hip100.csv', 'P15_hip100.csv', 'P16_hip100.csv', 'P17_hip100.csv', 'P18_hip100.csv', 'P19_hip100.csv', 'P20_hip100.csv', 'P21_hip100.csv', 'P22_hip100.csv', 'P23_hip100.csv', 'P24_hip100.csv', 'P25_hip100.csv', 'P26_hip100.csv', 'P27_hip100.csv', 'P28_hip100.csv', 'P29_hip100.csv', 'P30_hip100.csv', 'P31_hip100.csv', 'P32_hip100.csv', 'P33_hip100.csv', 'P34_hip100.csv', 'P35_hip100.csv', 'P36_hip100.csv', 'P37_hip100.csv', 'P38_hip100.csv', 'P39_hip100.csv']\n"
     ]
    }
   ],
   "source": [
    "PATH = \"DataOx\\\\Hip_100Hz\"\n",
    "\n",
    "all_files = os.listdir(PATH)\n",
    "\n",
    "print(all_files) \n"
   ],
   "metadata": {
    "collapsed": false,
    "ExecuteTime": {
     "end_time": "2024-04-19T13:15:24.966038300Z",
     "start_time": "2024-04-19T13:15:24.955498600Z"
    }
   },
   "id": "1ef4f9994b4a9c57"
  },
  {
   "cell_type": "markdown",
   "source": [],
   "metadata": {
    "collapsed": false
   },
   "id": "540006408cfc5b5f"
  },
  {
   "cell_type": "code",
   "execution_count": 15,
   "outputs": [],
   "source": [
    "import numpy as np\n",
    "end = 60000\n",
    "\n",
    "import time\n",
    "\n",
    "def getSteps(file, window_size=20, threshold=1.15):\n",
    "    start_time = time.time()\n",
    "    file_data = pd.read_csv(\"DataOx\\\\Hip_100Hz\\\\\" + file)[0:end]\n",
    "\n",
    "    expected = np.where(file_data[\"annotation\"] == 1)[0]\n",
    "\n",
    "    data1 = file_data[\"x\"] ** 2 + file_data[\"y\"] ** 2 + file_data[\"z\"] ** 2\n",
    "    accelerometer = data1.apply(lambda x: x ** 0.5)\n",
    "    data1 = msl.apply_filter(accelerometer, [0.0167855014066363,\t0.0470217363830679,\t0.121859539593060,\t0.198782647391950,\t0.231101150450572,\t0.198782647391950,\t0.121859539593060,\t0.0470217363830679,\t0.0167855014066363])\n",
    "    data1 = msl.maximum_difference(data1, window_size)\n",
    "    data1 = msl.detect_outliers(data1, threshold)\n",
    "    data1 = msl.post_processing(data1, 250, 100)\n",
    "    calculated = np.where(data1 == 1)[0]\n",
    "    return calculated, expected , accelerometer\n"
   ],
   "metadata": {
    "collapsed": false,
    "ExecuteTime": {
     "end_time": "2024-04-19T13:15:24.982048100Z",
     "start_time": "2024-04-19T13:15:24.973209800Z"
    }
   },
   "id": "a1227df95beb9344"
  },
  {
   "cell_type": "code",
   "execution_count": 16,
   "outputs": [],
   "source": [
    "def chart(data_in):\n",
    "    (calculated, expected, accelerometer) = data_in\n",
    "    x=range(len(accelerometer))\n",
    "    y=accelerometer\n",
    "    plt.figure(figsize=(10,5))\n",
    "    plt.plot(x,y, color='red', marker='o')\n",
    "    plt.xlabel('index')\n",
    "    plt.ylabel('magnitude')\n",
    "    #show x label every 800\n",
    "    \n",
    "    #add rectangles\n",
    "    for e in expected:\n",
    "        plt.axvline(x =e, color ='g', label ='axvline - full height', ymin=0.5, alpha=0.8)\n",
    "    for c in calculated:\n",
    "        plt.axvline(x =c, color ='b', label ='axvline - full height', ymax=0.5, alpha=0.8)\n",
    "\n",
    "\n",
    "    plt.show()"
   ],
   "metadata": {
    "collapsed": false,
    "ExecuteTime": {
     "end_time": "2024-04-19T13:15:24.987052300Z",
     "start_time": "2024-04-19T13:15:24.977885500Z"
    }
   },
   "id": "5fc192c583576a67"
  },
  {
   "cell_type": "code",
   "execution_count": 17,
   "outputs": [],
   "source": [
    "# differences = []\n",
    "# i = 0\n",
    "# for file in all_files:\n",
    "#     (calculated1, expected1, _) = getSteps(file)\n",
    "#     differences.append(len(expected1) - len(calculated1))\n",
    "#     print(i, len(expected1), len(calculated1), file)\n",
    "#     i += 1\n",
    "# print(differences) "
   ],
   "metadata": {
    "collapsed": false,
    "ExecuteTime": {
     "end_time": "2024-04-19T13:15:24.998457400Z",
     "start_time": "2024-04-19T13:15:24.989040600Z"
    }
   },
   "id": "13be95fa77028960"
  },
  {
   "cell_type": "code",
   "execution_count": 17,
   "outputs": [],
   "source": [],
   "metadata": {
    "collapsed": false,
    "ExecuteTime": {
     "end_time": "2024-04-19T13:15:25.001447700Z",
     "start_time": "2024-04-19T13:15:24.999454500Z"
    }
   },
   "id": "f3e237d9132b204e"
  },
  {
   "cell_type": "code",
   "execution_count": 18,
   "outputs": [],
   "source": [
    "steps = getSteps(all_files[28])"
   ],
   "metadata": {
    "collapsed": false,
    "ExecuteTime": {
     "end_time": "2024-04-19T13:15:25.279356700Z",
     "start_time": "2024-04-19T13:15:25.002946Z"
    }
   },
   "id": "9a334754270c99f9"
  },
  {
   "cell_type": "code",
   "execution_count": 18,
   "outputs": [],
   "source": [],
   "metadata": {
    "collapsed": false,
    "ExecuteTime": {
     "end_time": "2024-04-19T13:15:25.286216200Z",
     "start_time": "2024-04-19T13:15:25.281344800Z"
    }
   },
   "id": "2c5d9f72ad6204fa"
  },
  {
   "cell_type": "code",
   "execution_count": 19,
   "outputs": [],
   "source": [
    "%matplotlib qt\n",
    "chart(steps)"
   ],
   "metadata": {
    "collapsed": false,
    "ExecuteTime": {
     "end_time": "2024-04-19T13:15:25.512813Z",
     "start_time": "2024-04-19T13:15:25.285702600Z"
    }
   },
   "id": "aa7431cb704aa798"
  },
  {
   "cell_type": "code",
   "execution_count": null,
   "outputs": [],
   "source": [
    "from scipy.optimize import minimize\n",
    "\n",
    "def oneObjective(x,i):\n",
    "    result = getSteps(all_files[i], int(x[0]), x[1])\n",
    "    return abs(len(result[1]) - len(result[0]))/(len(result[1])+1)\n",
    "\n",
    "def objective(x):\n",
    "    return sum([oneObjective(x, i) for i in range(0, 30)])\n",
    "\n",
    "\n",
    "\n",
    "x0 = np.array([42, 1.75])\n",
    "res = minimize(objective, x0, method='nelder-mead', options={'xatol': 1e-1, 'disp': True, 'maxiter': 30})\n",
    "print(res.x)\n",
    "print(res.fun)"
   ],
   "metadata": {
    "collapsed": false,
    "is_executing": true,
    "ExecuteTime": {
     "start_time": "2024-04-19T13:35:01.499712100Z"
    }
   },
   "id": "f91bd868a6e4d51e"
  },
  {
   "cell_type": "code",
   "execution_count": 40,
   "outputs": [
    {
     "name": "stdout",
     "output_type": "stream",
     "text": [
      "27.958579881656803\n",
      "26.47058823529412\n",
      "0.7151370679380215\n",
      "23.076923076923077\n",
      "12.4031007751938\n",
      "13.580246913580247\n",
      "11.723329425556859\n",
      "3.0303030303030303\n",
      "7.920792079207921\n",
      "1000.0\n"
     ]
    }
   ],
   "source": [
    "\n",
    "for i in range(0, 10):\n",
    "    print(oneObjective(res.x, i)*100)"
   ],
   "metadata": {
    "collapsed": false,
    "ExecuteTime": {
     "end_time": "2024-04-19T13:32:18.283576900Z",
     "start_time": "2024-04-19T13:32:15.630387Z"
    }
   },
   "id": "7c22ef4e2bb09263"
  },
  {
   "cell_type": "code",
   "execution_count": 41,
   "outputs": [],
   "source": [
    "chart(getSteps(all_files[9],int(res.x[0]),res.x[1]))"
   ],
   "metadata": {
    "collapsed": false,
    "ExecuteTime": {
     "end_time": "2024-04-19T13:32:47.816729800Z",
     "start_time": "2024-04-19T13:32:47.469945200Z"
    }
   },
   "id": "ce2916c4a69d9311"
  },
  {
   "cell_type": "code",
   "execution_count": null,
   "outputs": [],
   "source": [
    "import time\n",
    "\n",
    "def getSteps2(file, window_size=20, threshold=1.15):\n",
    "    start_time = time.time()\n",
    "    file_data = pd.read_csv(\"DataOx\\\\Hip_100Hz\\\\\" + file)[0:end]\n",
    "    print(\"Time taken for reading file: %s seconds\" % (time.time() - start_time))\n",
    "\n",
    "    start_time = time.time()\n",
    "    expected = np.where(file_data[\"annotation\"] == 1)[0]\n",
    "    print(\"Time taken for np.where: %s seconds\" % (time.time() - start_time))\n",
    "\n",
    "    start_time = time.time()\n",
    "    data1 = file_data[\"x\"] ** 2 + file_data[\"y\"] ** 2 + file_data[\"z\"] ** 2\n",
    "    accelerometer = data1.apply(lambda x: x ** 0.5)\n",
    "    print(\"Time taken for calculating accelerometer: %s seconds\" % (time.time() - start_time))\n",
    "\n",
    "    start_time = time.time()\n",
    "    data1 = msl.apply_filter(accelerometer, [0.0167855014066363,\t0.0470217363830679,\t0.121859539593060,\t0.198782647391950,\t0.231101150450572,\t0.198782647391950,\t0.121859539593060,\t0.0470217363830679,\t0.0167855014066363])\n",
    "    print(\"Time taken for apply_filter: %s seconds\" % (time.time() - start_time))\n",
    "\n",
    "    start_time = time.time()\n",
    "    data1 = msl.modified_pan_tompkins_scoring(data1, window_size)\n",
    "    print(\"Time taken for modified_pan_tompkins_scoring: %s seconds\" % (time.time() - start_time))\n",
    "\n",
    "    start_time = time.time()\n",
    "    data1 = msl.detect_outliers(data1, threshold)\n",
    "    print(\"Time taken for detect_outliers: %s seconds\" % (time.time() - start_time))\n",
    "\n",
    "    start_time = time.time()\n",
    "    data1 = msl.post_processing(data1, 250, 100)\n",
    "    print(\"Time taken for post_processing: %s seconds\" % (time.time() - start_time))\n",
    "\n",
    "    start_time = time.time()\n",
    "    calculated = np.where(data1 == 1)[0]\n",
    "    print(\"Time taken for final np.where: %s seconds\" % (time.time() - start_time))\n",
    "\n",
    "    return calculated, expected , accelerometer\n"
   ],
   "metadata": {
    "collapsed": false
   },
   "id": "b6bef02ba5f2afbc"
  }
 ],
 "metadata": {
  "kernelspec": {
   "display_name": "Python 3",
   "language": "python",
   "name": "python3"
  },
  "language_info": {
   "codemirror_mode": {
    "name": "ipython",
    "version": 2
   },
   "file_extension": ".py",
   "mimetype": "text/x-python",
   "name": "python",
   "nbconvert_exporter": "python",
   "pygments_lexer": "ipython2",
   "version": "2.7.6"
  }
 },
 "nbformat": 4,
 "nbformat_minor": 5
}
