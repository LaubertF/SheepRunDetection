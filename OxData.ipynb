{
 "cells": [
  {
   "cell_type": "code",
   "execution_count": 64,
   "outputs": [],
   "source": [
    "import os\n",
    "\n",
    "import pandas as pd\n",
    "import matplotlib.pyplot as plt\n",
    "import steplib as msl\n",
    "import dataloader as dl\n",
    "import numpy as np\n",
    "%matplotlib inline"
   ],
   "metadata": {
    "collapsed": false,
    "ExecuteTime": {
     "end_time": "2024-04-25T15:15:08.431621800Z",
     "start_time": "2024-04-25T15:15:08.413420400Z"
    }
   },
   "id": "c26503a008ab1f84"
  },
  {
   "cell_type": "code",
   "execution_count": 65,
   "outputs": [],
   "source": [
    "data = dl.getRegularObject()"
   ],
   "metadata": {
    "collapsed": false,
    "ExecuteTime": {
     "end_time": "2024-04-25T15:15:08.465264200Z",
     "start_time": "2024-04-25T15:15:08.432618800Z"
    }
   },
   "id": "e5a3648df01af3e"
  },
  {
   "cell_type": "markdown",
   "source": [],
   "metadata": {
    "collapsed": false
   },
   "id": "540006408cfc5b5f"
  },
  {
   "cell_type": "code",
   "execution_count": 96,
   "outputs": [
    {
     "name": "stdout",
     "output_type": "stream",
     "text": [
      "[2.         0.66666667]\n"
     ]
    }
   ],
   "source": [
    "from statistics import mean\n",
    "from scipy.optimize import minimize, brute\n",
    "\n",
    "def oneObjective(x,i):\n",
    "    result = msl.getSteps(data.data[i], int(x[0]), x[1],data)\n",
    "    return abs(len(result[1]) - len(result[0])) / len(result[1])\n",
    "\n",
    "def objective(x):\n",
    "    return mean([oneObjective(x, i) for i in range(len(data.data))])*100\n",
    "\n",
    "x0 = np.array([1.2,5])\n",
    "#res = minimize(objective, x0, method='Nelder-Mead', options={ 'disp': True, 'maxiter': 50})\n",
    "res = brute(objective, ((1, 10), (0.5, 2)), disp=True, finish=None, Ns=10)\n",
    "# print(res.x)\n",
    "# print(res.fun)\n",
    "print(res)"
   ],
   "metadata": {
    "collapsed": false,
    "ExecuteTime": {
     "end_time": "2024-04-25T15:28:53.457560600Z",
     "start_time": "2024-04-25T15:28:34.210438800Z"
    }
   },
   "id": "f91bd868a6e4d51e"
  },
  {
   "cell_type": "code",
   "execution_count": 93,
   "outputs": [
    {
     "data": {
      "text/plain": "array([2.11111111, 0.66666667])"
     },
     "execution_count": 93,
     "metadata": {},
     "output_type": "execute_result"
    }
   ],
   "source": [
    "res"
   ],
   "metadata": {
    "collapsed": false,
    "ExecuteTime": {
     "end_time": "2024-04-25T15:26:45.255571300Z",
     "start_time": "2024-04-25T15:26:45.236089Z"
    }
   },
   "id": "b04e554f3e83404e"
  },
  {
   "cell_type": "code",
   "execution_count": 98,
   "outputs": [],
   "source": [
    "def oneObjective2(x,i):\n",
    "    result = msl.getSteps(data.data[i], int(x[0]), x[1],data)\n",
    "    diff = len(result[1]) - len(result[0])\n",
    "    #2 decimal\n",
    "    percent = round((diff/len(result[1]) * 100),2)\n",
    "    #format\n",
    "    print(f\"File {i} has {diff} difference, {len(result[1])} total, {percent}%\")\n",
    "    return abs(percent)"
   ],
   "metadata": {
    "collapsed": false,
    "ExecuteTime": {
     "end_time": "2024-04-25T15:29:06.298621100Z",
     "start_time": "2024-04-25T15:29:06.292482700Z"
    }
   },
   "id": "7928666aa3567846"
  },
  {
   "cell_type": "code",
   "execution_count": 100,
   "outputs": [
    {
     "name": "stdout",
     "output_type": "stream",
     "text": [
      "File 0 has 8 difference, 936 total, 0.85%\n",
      "File 1 has 67 difference, 1052 total, 6.37%\n",
      "File 2 has 6 difference, 1043 total, 0.58%\n",
      "File 3 has -4 difference, 1228 total, -0.33%\n",
      "File 4 has -42 difference, 1106 total, -3.8%\n",
      "File 5 has -20 difference, 1069 total, -1.87%\n",
      "File 6 has 58 difference, 999 total, 5.81%\n",
      "File 7 has -18 difference, 963 total, -1.87%\n",
      "File 8 has -96 difference, 1028 total, -9.34%\n",
      "File 9 has 45 difference, 1072 total, 4.2%\n",
      "File 10 has 170 difference, 919 total, 18.5%\n",
      "File 11 has -21 difference, 998 total, -2.1%\n",
      "File 12 has 16 difference, 945 total, 1.69%\n",
      "File 13 has 179 difference, 1165 total, 15.36%\n",
      "File 14 has -36 difference, 1139 total, -3.16%\n",
      "Average difference: 5.0553333333333335%\n",
      "Median difference: 3.16%\n"
     ]
    }
   ],
   "source": [
    "percentages = []\n",
    "for i in range(data.count):\n",
    "    percentages.append(oneObjective2(res, i))\n",
    "print(f\"Average difference: {mean(percentages)}%\")\n",
    "print(f\"Median difference: {np.median(percentages)}%\")"
   ],
   "metadata": {
    "collapsed": false,
    "ExecuteTime": {
     "end_time": "2024-04-25T15:29:27.993616800Z",
     "start_time": "2024-04-25T15:29:27.781089100Z"
    }
   },
   "id": "7c22ef4e2bb09263"
  },
  {
   "cell_type": "code",
   "execution_count": 104,
   "outputs": [],
   "source": [
    "import matplotlib.pyplot as plt\n",
    "\n",
    "# Assuming percentages is your list of percentages\n",
    "\n",
    "\n",
    "plt.bar(range(len(percentages)), percentages)\n",
    "plt.xlabel('Index')\n",
    "plt.ylabel('Percentage')\n",
    "plt.title('Bar Chart of Percentages')\n",
    "plt.show()"
   ],
   "metadata": {
    "collapsed": false,
    "ExecuteTime": {
     "end_time": "2024-04-25T15:32:26.208087900Z",
     "start_time": "2024-04-25T15:32:26.141031600Z"
    }
   },
   "id": "f7f8d198259a2580"
  },
  {
   "cell_type": "code",
   "execution_count": 103,
   "outputs": [],
   "source": [
    "%matplotlib qt\n",
    "msl.chart(msl.getSteps(data.data[0],int(res[0]), res[1],data))"
   ],
   "metadata": {
    "collapsed": false,
    "ExecuteTime": {
     "end_time": "2024-04-25T15:30:12.026281800Z",
     "start_time": "2024-04-25T15:30:11.321017400Z"
    }
   },
   "id": "ce2916c4a69d9311"
  },
  {
   "cell_type": "code",
   "execution_count": 105,
   "outputs": [],
   "source": [
    "plt.pie(percentages, labels = range(len(percentages)), autopct='%1.1f%%')\n",
    "plt.title('Pie Chart of Percentages')\n",
    "plt.show()"
   ],
   "metadata": {
    "collapsed": false,
    "ExecuteTime": {
     "end_time": "2024-04-25T15:32:49.403925500Z",
     "start_time": "2024-04-25T15:32:49.325629800Z"
    }
   },
   "id": "4e5d47e56735d53a"
  },
  {
   "cell_type": "code",
   "execution_count": 70,
   "outputs": [],
   "source": [
    "def getGroundTruth(i):\n",
    "    file = data.data[i]\n",
    "    file_data = pd.read_csv(file)\n",
    "    expected = np.where(file_data[\"annotation\"] == 1)[0]\n",
    "    return len(expected)"
   ],
   "metadata": {
    "collapsed": false,
    "ExecuteTime": {
     "end_time": "2024-04-25T15:15:22.943663300Z",
     "start_time": "2024-04-25T15:15:22.936957500Z"
    }
   },
   "id": "2c5d9f72ad6204fa"
  },
  {
   "cell_type": "code",
   "execution_count": 70,
   "outputs": [],
   "source": [],
   "metadata": {
    "collapsed": false,
    "ExecuteTime": {
     "end_time": "2024-04-25T15:15:22.944689400Z",
     "start_time": "2024-04-25T15:15:22.941618300Z"
    }
   },
   "id": "972de8999681dc5"
  }
 ],
 "metadata": {
  "kernelspec": {
   "display_name": "Python 3",
   "language": "python",
   "name": "python3"
  },
  "language_info": {
   "codemirror_mode": {
    "name": "ipython",
    "version": 2
   },
   "file_extension": ".py",
   "mimetype": "text/x-python",
   "name": "python",
   "nbconvert_exporter": "python",
   "pygments_lexer": "ipython2",
   "version": "2.7.6"
  }
 },
 "nbformat": 4,
 "nbformat_minor": 5
}
