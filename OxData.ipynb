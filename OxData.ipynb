{
 "cells": [
  {
   "cell_type": "code",
   "execution_count": 1,
   "outputs": [],
   "source": [
    "import os\n",
    "\n",
    "import pandas as pd\n",
    "import matplotlib.pyplot as plt\n",
    "import steplib as msl\n",
    "%matplotlib inline"
   ],
   "metadata": {
    "collapsed": false,
    "ExecuteTime": {
     "end_time": "2024-03-09T11:15:52.621253400Z",
     "start_time": "2024-03-09T11:15:51.997934Z"
    }
   },
   "id": "c26503a008ab1f84"
  },
  {
   "cell_type": "code",
   "execution_count": 2,
   "outputs": [
    {
     "name": "stdout",
     "output_type": "stream",
     "text": [
      "['P01_hip100.csv', 'P02_hip100.csv', 'P03_hip100.csv', 'P04_hip100.csv', 'P05_hip100.csv', 'P06_hip100.csv', 'P07_hip100.csv', 'P08_hip100.csv', 'P09_hip100.csv', 'P10_hip100.csv', 'P11_hip100.csv', 'P12_hip100.csv', 'P13_hip100.csv', 'P14_hip100.csv', 'P15_hip100.csv', 'P16_hip100.csv', 'P17_hip100.csv', 'P18_hip100.csv', 'P19_hip100.csv', 'P20_hip100.csv', 'P21_hip100.csv', 'P22_hip100.csv', 'P23_hip100.csv', 'P24_hip100.csv', 'P25_hip100.csv', 'P26_hip100.csv', 'P27_hip100.csv', 'P28_hip100.csv', 'P29_hip100.csv', 'P30_hip100.csv', 'P31_hip100.csv', 'P32_hip100.csv', 'P33_hip100.csv', 'P34_hip100.csv', 'P35_hip100.csv', 'P36_hip100.csv', 'P37_hip100.csv', 'P38_hip100.csv', 'P39_hip100.csv']\n"
     ]
    }
   ],
   "source": [
    "PATH = \"DataOx\\\\Hip_100Hz\"\n",
    "\n",
    "all_files = os.listdir(PATH)\n",
    "\n",
    "print(all_files) \n"
   ],
   "metadata": {
    "collapsed": false,
    "ExecuteTime": {
     "end_time": "2024-03-09T11:15:52.630405200Z",
     "start_time": "2024-03-09T11:15:52.620259100Z"
    }
   },
   "id": "1ef4f9994b4a9c57"
  },
  {
   "cell_type": "markdown",
   "source": [],
   "metadata": {
    "collapsed": false
   },
   "id": "540006408cfc5b5f"
  },
  {
   "cell_type": "code",
   "execution_count": 23,
   "outputs": [],
   "source": [
    "import numpy as np\n",
    "end = 60000\n",
    "\n",
    "def getSteps(file, window_size=20, threshold=1.15):\n",
    "    file_data = pd.read_csv(\"DataOx\\\\Hip_100Hz\\\\\" + file)[0:end]\n",
    "    expected = np.where(file_data[\"annotation\"] == 1)[0]\n",
    "    data1 = file_data[\"x\"] ** 2 + file_data[\"y\"] ** 2 + file_data[\"z\"] ** 2\n",
    "    accelerometer = data1.apply(lambda x: x ** 0.5)\n",
    "    data1 = msl.apply_filter(accelerometer, [0.0167855014066363,\t0.0470217363830679,\t0.121859539593060,\t0.198782647391950,\t0.231101150450572,\t0.198782647391950,\t0.121859539593060,\t0.0470217363830679,\t0.0167855014066363])\n",
    "    data1 = msl.modified_pan_tompkins_scoring(data1, window_size)\n",
    "    data1 = msl.detect_outliers(data1, threshold)\n",
    "    data1 = msl.post_processing(data1, 250, 100)\n",
    "    calculated = np.where(data1 == 1)[0]\n",
    "\n",
    "\n",
    "    return calculated, expected , accelerometer"
   ],
   "metadata": {
    "collapsed": false,
    "ExecuteTime": {
     "end_time": "2024-03-09T11:55:38.468828100Z",
     "start_time": "2024-03-09T11:55:38.460297200Z"
    }
   },
   "id": "a1227df95beb9344"
  },
  {
   "cell_type": "code",
   "execution_count": 4,
   "outputs": [],
   "source": [
    "def chart(data_in):\n",
    "    (calculated, expected, accelerometer) = data_in\n",
    "    x=range(len(accelerometer))\n",
    "    y=accelerometer\n",
    "    plt.figure(figsize=(10,5))\n",
    "    plt.plot(x,y, color='red', marker='o')\n",
    "    plt.xlabel('index')\n",
    "    plt.ylabel('magnitude')\n",
    "    #show x label every 800\n",
    "    plt.xticks(x[::500])\n",
    "    plt.xticks(rotation=90)\n",
    "    #add rectangles\n",
    "    for e in expected:\n",
    "        plt.axvline(x =e, color ='g', label ='axvline - full height', ymin=0.5, alpha=0.8)\n",
    "    for c in calculated:\n",
    "        plt.axvline(x =c, color ='b', label ='axvline - full height', ymax=0.5, alpha=0.8)\n",
    "    plt.show()"
   ],
   "metadata": {
    "collapsed": false,
    "ExecuteTime": {
     "end_time": "2024-03-09T11:15:54.036986300Z",
     "start_time": "2024-03-09T11:15:54.019941600Z"
    }
   },
   "id": "5fc192c583576a67"
  },
  {
   "cell_type": "code",
   "execution_count": 24,
   "outputs": [
    {
     "name": "stdout",
     "output_type": "stream",
     "text": [
      "0 675 615 P01_hip100.csv\n",
      "1 33 10 P02_hip100.csv\n",
      "2 838 800 P03_hip100.csv\n",
      "3 25 16 P04_hip100.csv\n",
      "4 386 377 P05_hip100.csv\n",
      "5 242 223 P06_hip100.csv\n",
      "6 852 727 P07_hip100.csv\n",
      "7 131 88 P08_hip100.csv\n",
      "8 201 188 P09_hip100.csv\n",
      "9 0 14 P10_hip100.csv\n",
      "10 233 111 P11_hip100.csv\n",
      "11 796 804 P12_hip100.csv\n",
      "12 890 798 P13_hip100.csv\n"
     ]
    },
    {
     "ename": "KeyboardInterrupt",
     "evalue": "",
     "output_type": "error",
     "traceback": [
      "\u001B[1;31m---------------------------------------------------------------------------\u001B[0m",
      "\u001B[1;31mKeyboardInterrupt\u001B[0m                         Traceback (most recent call last)",
      "Cell \u001B[1;32mIn[24], line 4\u001B[0m\n\u001B[0;32m      2\u001B[0m i \u001B[38;5;241m=\u001B[39m \u001B[38;5;241m0\u001B[39m\n\u001B[0;32m      3\u001B[0m \u001B[38;5;28;01mfor\u001B[39;00m file \u001B[38;5;129;01min\u001B[39;00m all_files:\n\u001B[1;32m----> 4\u001B[0m     (calculated1, expected1, _) \u001B[38;5;241m=\u001B[39m getSteps(file)\n\u001B[0;32m      5\u001B[0m     differences\u001B[38;5;241m.\u001B[39mappend(\u001B[38;5;28mlen\u001B[39m(expected1) \u001B[38;5;241m-\u001B[39m \u001B[38;5;28mlen\u001B[39m(calculated1))\n\u001B[0;32m      6\u001B[0m     \u001B[38;5;28mprint\u001B[39m(i, \u001B[38;5;28mlen\u001B[39m(expected1), \u001B[38;5;28mlen\u001B[39m(calculated1), file)\n",
      "Cell \u001B[1;32mIn[23], line 9\u001B[0m, in \u001B[0;36mgetSteps\u001B[1;34m(file, window_size, threshold)\u001B[0m\n\u001B[0;32m      7\u001B[0m data1 \u001B[38;5;241m=\u001B[39m file_data[\u001B[38;5;124m\"\u001B[39m\u001B[38;5;124mx\u001B[39m\u001B[38;5;124m\"\u001B[39m] \u001B[38;5;241m*\u001B[39m\u001B[38;5;241m*\u001B[39m \u001B[38;5;241m2\u001B[39m \u001B[38;5;241m+\u001B[39m file_data[\u001B[38;5;124m\"\u001B[39m\u001B[38;5;124my\u001B[39m\u001B[38;5;124m\"\u001B[39m] \u001B[38;5;241m*\u001B[39m\u001B[38;5;241m*\u001B[39m \u001B[38;5;241m2\u001B[39m \u001B[38;5;241m+\u001B[39m file_data[\u001B[38;5;124m\"\u001B[39m\u001B[38;5;124mz\u001B[39m\u001B[38;5;124m\"\u001B[39m] \u001B[38;5;241m*\u001B[39m\u001B[38;5;241m*\u001B[39m \u001B[38;5;241m2\u001B[39m\n\u001B[0;32m      8\u001B[0m accelerometer \u001B[38;5;241m=\u001B[39m data1\u001B[38;5;241m.\u001B[39mapply(\u001B[38;5;28;01mlambda\u001B[39;00m x: x \u001B[38;5;241m*\u001B[39m\u001B[38;5;241m*\u001B[39m \u001B[38;5;241m0.5\u001B[39m)\n\u001B[1;32m----> 9\u001B[0m data1 \u001B[38;5;241m=\u001B[39m msl\u001B[38;5;241m.\u001B[39mapply_filter(accelerometer, [\u001B[38;5;241m0.0167855014066363\u001B[39m,\t\u001B[38;5;241m0.0470217363830679\u001B[39m,\t\u001B[38;5;241m0.121859539593060\u001B[39m,\t\u001B[38;5;241m0.198782647391950\u001B[39m,\t\u001B[38;5;241m0.231101150450572\u001B[39m,\t\u001B[38;5;241m0.198782647391950\u001B[39m,\t\u001B[38;5;241m0.121859539593060\u001B[39m,\t\u001B[38;5;241m0.0470217363830679\u001B[39m,\t\u001B[38;5;241m0.0167855014066363\u001B[39m])\n\u001B[0;32m     10\u001B[0m data1 \u001B[38;5;241m=\u001B[39m msl\u001B[38;5;241m.\u001B[39mmodified_pan_tompkins_scoring(data1, window_size)\n\u001B[0;32m     11\u001B[0m data1 \u001B[38;5;241m=\u001B[39m msl\u001B[38;5;241m.\u001B[39mdetect_outliers(data1, threshold)\n",
      "File \u001B[1;32m~\\DataspellProjects\\SheepRunDetection\\steplib.py:15\u001B[0m, in \u001B[0;36mapply_filter\u001B[1;34m(data_buffer, coefficients)\u001B[0m\n\u001B[0;32m     13\u001B[0m \u001B[38;5;66;03m# Apply the filter\u001B[39;00m\n\u001B[0;32m     14\u001B[0m \u001B[38;5;28;01mfor\u001B[39;00m i \u001B[38;5;129;01min\u001B[39;00m \u001B[38;5;28mrange\u001B[39m(\u001B[38;5;28mlen\u001B[39m(coefficients), \u001B[38;5;28mlen\u001B[39m(data_buffer)):\n\u001B[1;32m---> 15\u001B[0m     filtered_data[i] \u001B[38;5;241m=\u001B[39m np\u001B[38;5;241m.\u001B[39mdot(data_buffer[i \u001B[38;5;241m-\u001B[39m \u001B[38;5;28mlen\u001B[39m(coefficients):i], coefficients[::\u001B[38;5;241m-\u001B[39m\u001B[38;5;241m1\u001B[39m])\n\u001B[0;32m     16\u001B[0m filtered_data[\u001B[38;5;241m0\u001B[39m] \u001B[38;5;241m=\u001B[39m \u001B[38;5;241m1\u001B[39m\n\u001B[0;32m     17\u001B[0m \u001B[38;5;28;01mreturn\u001B[39;00m filtered_data\n",
      "File \u001B[1;32m<__array_function__ internals>:200\u001B[0m, in \u001B[0;36mdot\u001B[1;34m(*args, **kwargs)\u001B[0m\n",
      "\u001B[1;31mKeyboardInterrupt\u001B[0m: "
     ]
    }
   ],
   "source": [
    "differences = []\n",
    "i = 0\n",
    "for file in all_files:\n",
    "    (calculated1, expected1, _) = getSteps(file)\n",
    "    differences.append(len(expected1) - len(calculated1))\n",
    "    print(i, len(expected1), len(calculated1), file)\n",
    "    i += 1\n",
    "print(differences) "
   ],
   "metadata": {
    "collapsed": false,
    "ExecuteTime": {
     "end_time": "2024-03-09T11:56:06.794697700Z",
     "start_time": "2024-03-09T11:55:40.841114900Z"
    }
   },
   "id": "13be95fa77028960"
  },
  {
   "cell_type": "code",
   "execution_count": 25,
   "outputs": [],
   "source": [
    "%matplotlib qt\n",
    "chart(getSteps(all_files[10]))"
   ],
   "metadata": {
    "collapsed": false,
    "ExecuteTime": {
     "end_time": "2024-03-09T11:56:16.444285700Z",
     "start_time": "2024-03-09T11:56:13.816708700Z"
    }
   },
   "id": "aa7431cb704aa798"
  },
  {
   "cell_type": "code",
   "execution_count": null,
   "outputs": [],
   "source": [
    "#TODO: new datasets\n",
    "#TODO: new filter\n",
    "#TODO   "
   ],
   "metadata": {
    "collapsed": false,
    "ExecuteTime": {
     "start_time": "2024-03-09T11:04:25.028606Z"
    }
   },
   "id": "f91bd868a6e4d51e"
  },
  {
   "cell_type": "code",
   "execution_count": null,
   "outputs": [],
   "source": [],
   "metadata": {
    "collapsed": false,
    "ExecuteTime": {
     "start_time": "2024-03-09T11:04:25.029606900Z"
    }
   },
   "id": "52c8235a1f8f9242"
  }
 ],
 "metadata": {
  "kernelspec": {
   "display_name": "Python 3",
   "language": "python",
   "name": "python3"
  },
  "language_info": {
   "codemirror_mode": {
    "name": "ipython",
    "version": 2
   },
   "file_extension": ".py",
   "mimetype": "text/x-python",
   "name": "python",
   "nbconvert_exporter": "python",
   "pygments_lexer": "ipython2",
   "version": "2.7.6"
  }
 },
 "nbformat": 4,
 "nbformat_minor": 5
}
