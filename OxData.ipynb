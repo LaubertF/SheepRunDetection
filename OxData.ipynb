{
 "cells": [
  {
   "cell_type": "code",
   "execution_count": 1,
   "outputs": [],
   "source": [
    "import os\n",
    "\n",
    "import pandas as pd\n",
    "import matplotlib.pyplot as plt\n",
    "import steplib as msl\n",
    "%matplotlib inline"
   ],
   "metadata": {
    "collapsed": false,
    "ExecuteTime": {
     "end_time": "2024-03-13T11:59:28.990800Z",
     "start_time": "2024-03-13T11:59:27.964495500Z"
    }
   },
   "id": "c26503a008ab1f84"
  },
  {
   "cell_type": "code",
   "execution_count": 2,
   "outputs": [
    {
     "name": "stdout",
     "output_type": "stream",
     "text": [
      "['P01_hip100.csv', 'P02_hip100.csv', 'P03_hip100.csv', 'P04_hip100.csv', 'P05_hip100.csv', 'P06_hip100.csv', 'P07_hip100.csv', 'P08_hip100.csv', 'P09_hip100.csv', 'P10_hip100.csv', 'P11_hip100.csv', 'P12_hip100.csv', 'P13_hip100.csv', 'P14_hip100.csv', 'P15_hip100.csv', 'P16_hip100.csv', 'P17_hip100.csv', 'P18_hip100.csv', 'P19_hip100.csv', 'P20_hip100.csv', 'P21_hip100.csv', 'P22_hip100.csv', 'P23_hip100.csv', 'P24_hip100.csv', 'P25_hip100.csv', 'P26_hip100.csv', 'P27_hip100.csv', 'P28_hip100.csv', 'P29_hip100.csv', 'P30_hip100.csv', 'P31_hip100.csv', 'P32_hip100.csv', 'P33_hip100.csv', 'P34_hip100.csv', 'P35_hip100.csv', 'P36_hip100.csv', 'P37_hip100.csv', 'P38_hip100.csv', 'P39_hip100.csv']\n"
     ]
    }
   ],
   "source": [
    "PATH = \"DataOx\\\\Hip_100Hz\"\n",
    "\n",
    "all_files = os.listdir(PATH)\n",
    "\n",
    "print(all_files) \n"
   ],
   "metadata": {
    "collapsed": false,
    "ExecuteTime": {
     "end_time": "2024-03-13T11:59:28.993789800Z",
     "start_time": "2024-03-13T11:59:28.985398300Z"
    }
   },
   "id": "1ef4f9994b4a9c57"
  },
  {
   "cell_type": "markdown",
   "source": [],
   "metadata": {
    "collapsed": false
   },
   "id": "540006408cfc5b5f"
  },
  {
   "cell_type": "code",
   "execution_count": 8,
   "outputs": [],
   "source": [
    "import numpy as np\n",
    "end = 60000\n",
    "\n",
    "def getSteps(file, window_size=20, threshold=1.15):\n",
    "    file_data = pd.read_csv(\"DataOx\\\\Hip_100Hz\\\\\" + file)[0:end]\n",
    "    expected = np.where(file_data[\"annotation\"] == 1)[0]\n",
    "    data1 = file_data[\"x\"] ** 2 + file_data[\"y\"] ** 2 + file_data[\"z\"] ** 2\n",
    "    accelerometer = data1.apply(lambda x: x ** 0.5)\n",
    "    data2 = msl.apply_filter(accelerometer, [0.0167855014066363,\t0.0470217363830679,\t0.121859539593060,\t0.198782647391950,\t0.231101150450572,\t0.198782647391950,\t0.121859539593060,\t0.0470217363830679,\t0.0167855014066363])\n",
    "    data1 = msl.modified_pan_tompkins_scoring(data2, window_size)\n",
    "    data1 = msl.detect_outliers(data1, threshold)\n",
    "    data1 = msl.post_processing(data1, 250, 100)\n",
    "    calculated = np.where(data1 == 1)[0]\n",
    "\n",
    "\n",
    "    return calculated, expected , data2"
   ],
   "metadata": {
    "collapsed": false,
    "ExecuteTime": {
     "end_time": "2024-03-13T12:05:12.352185400Z",
     "start_time": "2024-03-13T12:05:12.325274400Z"
    }
   },
   "id": "a1227df95beb9344"
  },
  {
   "cell_type": "code",
   "execution_count": 4,
   "outputs": [],
   "source": [
    "def chart(data_in):\n",
    "    (calculated, expected, accelerometer) = data_in\n",
    "    x=range(len(accelerometer))\n",
    "    y=accelerometer\n",
    "    plt.figure(figsize=(10,5))\n",
    "    plt.plot(x,y, color='red', marker='o')\n",
    "    plt.xlabel('index')\n",
    "    plt.ylabel('magnitude')\n",
    "    #show x label every 800\n",
    "    plt.xticks(x[::500])\n",
    "    plt.xticks(rotation=90)\n",
    "    #add rectangles\n",
    "    for e in expected:\n",
    "        plt.axvline(x =e, color ='g', label ='axvline - full height', ymin=0.5, alpha=0.8)\n",
    "    for c in calculated:\n",
    "        plt.axvline(x =c, color ='b', label ='axvline - full height', ymax=0.5, alpha=0.8)\n",
    "    plt.show()"
   ],
   "metadata": {
    "collapsed": false,
    "ExecuteTime": {
     "end_time": "2024-03-13T11:59:29.038566400Z",
     "start_time": "2024-03-13T11:59:29.007260900Z"
    }
   },
   "id": "5fc192c583576a67"
  },
  {
   "cell_type": "code",
   "execution_count": 5,
   "outputs": [
    {
     "name": "stdout",
     "output_type": "stream",
     "text": [
      "0 675 615 P01_hip100.csv\n",
      "1 33 10 P02_hip100.csv\n",
      "2 838 800 P03_hip100.csv\n",
      "3 25 16 P04_hip100.csv\n",
      "4 386 377 P05_hip100.csv\n",
      "5 242 223 P06_hip100.csv\n",
      "6 852 727 P07_hip100.csv\n",
      "7 131 88 P08_hip100.csv\n",
      "8 201 188 P09_hip100.csv\n",
      "9 0 14 P10_hip100.csv\n",
      "10 233 111 P11_hip100.csv\n",
      "11 796 804 P12_hip100.csv\n",
      "12 890 798 P13_hip100.csv\n",
      "13 642 646 P14_hip100.csv\n",
      "14 85 119 P15_hip100.csv\n",
      "15 494 445 P16_hip100.csv\n",
      "16 32 45 P17_hip100.csv\n",
      "17 131 125 P18_hip100.csv\n",
      "18 71 65 P19_hip100.csv\n",
      "19 194 175 P20_hip100.csv\n",
      "20 219 207 P21_hip100.csv\n",
      "21 763 636 P22_hip100.csv\n",
      "22 28 19 P23_hip100.csv\n",
      "23 633 550 P24_hip100.csv\n",
      "24 103 94 P25_hip100.csv\n",
      "25 538 486 P26_hip100.csv\n",
      "26 47 55 P27_hip100.csv\n",
      "27 26 22 P28_hip100.csv\n",
      "28 188 171 P29_hip100.csv\n",
      "29 895 531 P30_hip100.csv\n",
      "30 433 406 P31_hip100.csv\n",
      "31 537 472 P32_hip100.csv\n",
      "32 932 777 P33_hip100.csv\n",
      "33 0 35 P34_hip100.csv\n",
      "34 145 64 P35_hip100.csv\n",
      "35 132 74 P36_hip100.csv\n",
      "36 69 34 P37_hip100.csv\n",
      "37 392 297 P38_hip100.csv\n",
      "38 192 157 P39_hip100.csv\n",
      "[60, 23, 38, 9, 9, 19, 125, 43, 13, -14, 122, -8, 92, -4, -34, 49, -13, 6, 6, 19, 12, 127, 9, 83, 9, 52, -8, 4, 17, 364, 27, 65, 155, -35, 81, 58, 35, 95, 35]\n"
     ]
    }
   ],
   "source": [
    "differences = []\n",
    "i = 0\n",
    "for file in all_files:\n",
    "    (calculated1, expected1, _) = getSteps(file)\n",
    "    differences.append(len(expected1) - len(calculated1))\n",
    "    print(i, len(expected1), len(calculated1), file)\n",
    "    i += 1\n",
    "print(differences) "
   ],
   "metadata": {
    "collapsed": false,
    "ExecuteTime": {
     "end_time": "2024-03-13T12:01:02.082454Z",
     "start_time": "2024-03-13T11:59:29.022620600Z"
    }
   },
   "id": "13be95fa77028960"
  },
  {
   "cell_type": "code",
   "execution_count": 9,
   "outputs": [],
   "source": [
    "%matplotlib qt\n",
    "chart(getSteps(all_files[28]))"
   ],
   "metadata": {
    "collapsed": false,
    "ExecuteTime": {
     "end_time": "2024-03-13T12:05:24.737229200Z",
     "start_time": "2024-03-13T12:05:22.490032100Z"
    }
   },
   "id": "aa7431cb704aa798"
  },
  {
   "cell_type": "code",
   "execution_count": 7,
   "outputs": [],
   "source": [
    "#TODO: new datasets\n",
    "#TODO: new filter\n",
    "#TODO   "
   ],
   "metadata": {
    "collapsed": false,
    "ExecuteTime": {
     "end_time": "2024-03-13T12:01:04.771758700Z",
     "start_time": "2024-03-13T12:01:04.768518200Z"
    }
   },
   "id": "f91bd868a6e4d51e"
  },
  {
   "cell_type": "code",
   "execution_count": 7,
   "outputs": [],
   "source": [],
   "metadata": {
    "collapsed": false,
    "ExecuteTime": {
     "end_time": "2024-03-13T12:01:04.776737800Z",
     "start_time": "2024-03-13T12:01:04.771758700Z"
    }
   },
   "id": "52c8235a1f8f9242"
  }
 ],
 "metadata": {
  "kernelspec": {
   "display_name": "Python 3",
   "language": "python",
   "name": "python3"
  },
  "language_info": {
   "codemirror_mode": {
    "name": "ipython",
    "version": 2
   },
   "file_extension": ".py",
   "mimetype": "text/x-python",
   "name": "python",
   "nbconvert_exporter": "python",
   "pygments_lexer": "ipython2",
   "version": "2.7.6"
  }
 },
 "nbformat": 4,
 "nbformat_minor": 5
}
