{
 "cells": [
  {
   "cell_type": "code",
   "execution_count": 6,
   "outputs": [],
   "source": [
    "import os\n",
    "\n",
    "import pandas as pd\n",
    "import matplotlib.pyplot as plt\n",
    "import steplib as msl\n",
    "%matplotlib inline"
   ],
   "metadata": {
    "collapsed": false,
    "ExecuteTime": {
     "end_time": "2024-04-19T08:55:47.147338400Z",
     "start_time": "2024-04-19T08:55:47.137835Z"
    }
   },
   "id": "c26503a008ab1f84"
  },
  {
   "cell_type": "code",
   "execution_count": 7,
   "outputs": [
    {
     "name": "stdout",
     "output_type": "stream",
     "text": [
      "['GroundMax.csv', 'GroundPT.csv', 'GroundPT2.csv', 'outputMax.csv', 'outputPT.csv', 'stateMax.csv', 'statePT.csv']\n"
     ]
    }
   ],
   "source": [
    "PATH = \"Sheep\"\n",
    "\n",
    "all_files = os.listdir(PATH)\n",
    "\n",
    "print(all_files) \n"
   ],
   "metadata": {
    "collapsed": false,
    "ExecuteTime": {
     "end_time": "2024-04-19T08:55:47.171334900Z",
     "start_time": "2024-04-19T08:55:47.141830100Z"
    }
   },
   "id": "1ef4f9994b4a9c57"
  },
  {
   "cell_type": "markdown",
   "source": [],
   "metadata": {
    "collapsed": false
   },
   "id": "540006408cfc5b5f"
  },
  {
   "cell_type": "code",
   "execution_count": 8,
   "outputs": [],
   "source": [
    "import numpy as np\n",
    "end = 60000\n",
    "\n",
    "def getSteps(file, window_size=20, threshold=1.15):\n",
    "    file_data = pd.read_csv(\"Sheep/\" + file)[0:end]\n",
    "    expected = np.where(file_data[\"gyrx\"] != 0)[0]\n",
    "    data1 = file_data[\"accx\"] ** 2 + file_data[\"accy\"] ** 2 + file_data[\"accz\"] ** 2\n",
    "    accelerometer = data1.apply(lambda x: x ** 0.5)\n",
    "    data2 = msl.apply_filter(accelerometer, [0.0167855014066363,\t0.0470217363830679,\t0.121859539593060,\t0.198782647391950,\t0.231101150450572,\t0.198782647391950,\t0.121859539593060,\t0.0470217363830679,\t0.0167855014066363])\n",
    "    data1 = msl.maximum_difference(data2, window_size)\n",
    "    data1 = msl.detect_outliers(data1, threshold)\n",
    "    data1 = msl.post_processing(data1, 250, 100)\n",
    "    calculated = np.where(data1 == 1)[0]\n",
    "\n",
    "\n",
    "    return calculated, expected , data2"
   ],
   "metadata": {
    "collapsed": false,
    "ExecuteTime": {
     "end_time": "2024-04-19T08:55:47.172332700Z",
     "start_time": "2024-04-19T08:55:47.152484700Z"
    }
   },
   "id": "a1227df95beb9344"
  },
  {
   "cell_type": "code",
   "execution_count": 9,
   "outputs": [],
   "source": [
    "def chart(data_in):\n",
    "    (calculated, expected, accelerometer) = data_in\n",
    "    x=range(len(accelerometer))\n",
    "    y=accelerometer\n",
    "    plt.figure(figsize=(10,5))\n",
    "    plt.plot(x,y, color='red', marker='o')\n",
    "    plt.xlabel('index')\n",
    "    plt.ylabel('magnitude')\n",
    "    #show x label every 800\n",
    "    plt.xticks(x[::500])\n",
    "    plt.xticks(rotation=90)\n",
    "    #add rectangles\n",
    "    for e in expected:\n",
    "        plt.axvline(x =e, color ='g', label ='axvline - full height', ymin=0.5, alpha=0.8)\n",
    "    for c in calculated:\n",
    "        plt.axvline(x =c, color ='b', label ='axvline - full height', ymax=0.5, alpha=0.8)\n",
    "    plt.show()"
   ],
   "metadata": {
    "collapsed": false,
    "ExecuteTime": {
     "end_time": "2024-04-19T08:55:47.191524700Z",
     "start_time": "2024-04-19T08:55:47.166315100Z"
    }
   },
   "id": "5fc192c583576a67"
  },
  {
   "cell_type": "code",
   "execution_count": 10,
   "outputs": [
    {
     "ename": "KeyError",
     "evalue": "'gyrx'",
     "output_type": "error",
     "traceback": [
      "\u001B[1;31m---------------------------------------------------------------------------\u001B[0m",
      "\u001B[1;31mKeyError\u001B[0m                                  Traceback (most recent call last)",
      "File \u001B[1;32mC:\\ProgramData\\anaconda3\\Lib\\site-packages\\pandas\\core\\indexes\\base.py:3653\u001B[0m, in \u001B[0;36mIndex.get_loc\u001B[1;34m(self, key)\u001B[0m\n\u001B[0;32m   3652\u001B[0m \u001B[38;5;28;01mtry\u001B[39;00m:\n\u001B[1;32m-> 3653\u001B[0m     \u001B[38;5;28;01mreturn\u001B[39;00m \u001B[38;5;28mself\u001B[39m\u001B[38;5;241m.\u001B[39m_engine\u001B[38;5;241m.\u001B[39mget_loc(casted_key)\n\u001B[0;32m   3654\u001B[0m \u001B[38;5;28;01mexcept\u001B[39;00m \u001B[38;5;167;01mKeyError\u001B[39;00m \u001B[38;5;28;01mas\u001B[39;00m err:\n",
      "File \u001B[1;32mC:\\ProgramData\\anaconda3\\Lib\\site-packages\\pandas\\_libs\\index.pyx:147\u001B[0m, in \u001B[0;36mpandas._libs.index.IndexEngine.get_loc\u001B[1;34m()\u001B[0m\n",
      "File \u001B[1;32mC:\\ProgramData\\anaconda3\\Lib\\site-packages\\pandas\\_libs\\index.pyx:176\u001B[0m, in \u001B[0;36mpandas._libs.index.IndexEngine.get_loc\u001B[1;34m()\u001B[0m\n",
      "File \u001B[1;32mpandas\\_libs\\hashtable_class_helper.pxi:7080\u001B[0m, in \u001B[0;36mpandas._libs.hashtable.PyObjectHashTable.get_item\u001B[1;34m()\u001B[0m\n",
      "File \u001B[1;32mpandas\\_libs\\hashtable_class_helper.pxi:7088\u001B[0m, in \u001B[0;36mpandas._libs.hashtable.PyObjectHashTable.get_item\u001B[1;34m()\u001B[0m\n",
      "\u001B[1;31mKeyError\u001B[0m: 'gyrx'",
      "\nThe above exception was the direct cause of the following exception:\n",
      "\u001B[1;31mKeyError\u001B[0m                                  Traceback (most recent call last)",
      "Cell \u001B[1;32mIn[10], line 4\u001B[0m\n\u001B[0;32m      2\u001B[0m i \u001B[38;5;241m=\u001B[39m \u001B[38;5;241m0\u001B[39m\n\u001B[0;32m      3\u001B[0m \u001B[38;5;28;01mfor\u001B[39;00m file \u001B[38;5;129;01min\u001B[39;00m all_files:\n\u001B[1;32m----> 4\u001B[0m     (calculated1, expected1, _) \u001B[38;5;241m=\u001B[39m getSteps(file)\n\u001B[0;32m      5\u001B[0m     differences\u001B[38;5;241m.\u001B[39mappend(\u001B[38;5;28mlen\u001B[39m(expected1) \u001B[38;5;241m-\u001B[39m \u001B[38;5;28mlen\u001B[39m(calculated1))\n\u001B[0;32m      6\u001B[0m     \u001B[38;5;28mprint\u001B[39m(i, \u001B[38;5;28mlen\u001B[39m(expected1), \u001B[38;5;28mlen\u001B[39m(calculated1), file)\n",
      "Cell \u001B[1;32mIn[8], line 6\u001B[0m, in \u001B[0;36mgetSteps\u001B[1;34m(file, window_size, threshold)\u001B[0m\n\u001B[0;32m      4\u001B[0m \u001B[38;5;28;01mdef\u001B[39;00m \u001B[38;5;21mgetSteps\u001B[39m(file, window_size\u001B[38;5;241m=\u001B[39m\u001B[38;5;241m20\u001B[39m, threshold\u001B[38;5;241m=\u001B[39m\u001B[38;5;241m1.15\u001B[39m):\n\u001B[0;32m      5\u001B[0m     file_data \u001B[38;5;241m=\u001B[39m pd\u001B[38;5;241m.\u001B[39mread_csv(\u001B[38;5;124m\"\u001B[39m\u001B[38;5;124mSheep/\u001B[39m\u001B[38;5;124m\"\u001B[39m \u001B[38;5;241m+\u001B[39m file)[\u001B[38;5;241m0\u001B[39m:end]\n\u001B[1;32m----> 6\u001B[0m     expected \u001B[38;5;241m=\u001B[39m np\u001B[38;5;241m.\u001B[39mwhere(file_data[\u001B[38;5;124m\"\u001B[39m\u001B[38;5;124mgyrx\u001B[39m\u001B[38;5;124m\"\u001B[39m] \u001B[38;5;241m!=\u001B[39m \u001B[38;5;241m0\u001B[39m)[\u001B[38;5;241m0\u001B[39m]\n\u001B[0;32m      7\u001B[0m     data1 \u001B[38;5;241m=\u001B[39m file_data[\u001B[38;5;124m\"\u001B[39m\u001B[38;5;124maccx\u001B[39m\u001B[38;5;124m\"\u001B[39m] \u001B[38;5;241m*\u001B[39m\u001B[38;5;241m*\u001B[39m \u001B[38;5;241m2\u001B[39m \u001B[38;5;241m+\u001B[39m file_data[\u001B[38;5;124m\"\u001B[39m\u001B[38;5;124maccy\u001B[39m\u001B[38;5;124m\"\u001B[39m] \u001B[38;5;241m*\u001B[39m\u001B[38;5;241m*\u001B[39m \u001B[38;5;241m2\u001B[39m \u001B[38;5;241m+\u001B[39m file_data[\u001B[38;5;124m\"\u001B[39m\u001B[38;5;124maccz\u001B[39m\u001B[38;5;124m\"\u001B[39m] \u001B[38;5;241m*\u001B[39m\u001B[38;5;241m*\u001B[39m \u001B[38;5;241m2\u001B[39m\n\u001B[0;32m      8\u001B[0m     accelerometer \u001B[38;5;241m=\u001B[39m data1\u001B[38;5;241m.\u001B[39mapply(\u001B[38;5;28;01mlambda\u001B[39;00m x: x \u001B[38;5;241m*\u001B[39m\u001B[38;5;241m*\u001B[39m \u001B[38;5;241m0.5\u001B[39m)\n",
      "File \u001B[1;32mC:\\ProgramData\\anaconda3\\Lib\\site-packages\\pandas\\core\\frame.py:3761\u001B[0m, in \u001B[0;36mDataFrame.__getitem__\u001B[1;34m(self, key)\u001B[0m\n\u001B[0;32m   3759\u001B[0m \u001B[38;5;28;01mif\u001B[39;00m \u001B[38;5;28mself\u001B[39m\u001B[38;5;241m.\u001B[39mcolumns\u001B[38;5;241m.\u001B[39mnlevels \u001B[38;5;241m>\u001B[39m \u001B[38;5;241m1\u001B[39m:\n\u001B[0;32m   3760\u001B[0m     \u001B[38;5;28;01mreturn\u001B[39;00m \u001B[38;5;28mself\u001B[39m\u001B[38;5;241m.\u001B[39m_getitem_multilevel(key)\n\u001B[1;32m-> 3761\u001B[0m indexer \u001B[38;5;241m=\u001B[39m \u001B[38;5;28mself\u001B[39m\u001B[38;5;241m.\u001B[39mcolumns\u001B[38;5;241m.\u001B[39mget_loc(key)\n\u001B[0;32m   3762\u001B[0m \u001B[38;5;28;01mif\u001B[39;00m is_integer(indexer):\n\u001B[0;32m   3763\u001B[0m     indexer \u001B[38;5;241m=\u001B[39m [indexer]\n",
      "File \u001B[1;32mC:\\ProgramData\\anaconda3\\Lib\\site-packages\\pandas\\core\\indexes\\base.py:3655\u001B[0m, in \u001B[0;36mIndex.get_loc\u001B[1;34m(self, key)\u001B[0m\n\u001B[0;32m   3653\u001B[0m     \u001B[38;5;28;01mreturn\u001B[39;00m \u001B[38;5;28mself\u001B[39m\u001B[38;5;241m.\u001B[39m_engine\u001B[38;5;241m.\u001B[39mget_loc(casted_key)\n\u001B[0;32m   3654\u001B[0m \u001B[38;5;28;01mexcept\u001B[39;00m \u001B[38;5;167;01mKeyError\u001B[39;00m \u001B[38;5;28;01mas\u001B[39;00m err:\n\u001B[1;32m-> 3655\u001B[0m     \u001B[38;5;28;01mraise\u001B[39;00m \u001B[38;5;167;01mKeyError\u001B[39;00m(key) \u001B[38;5;28;01mfrom\u001B[39;00m \u001B[38;5;21;01merr\u001B[39;00m\n\u001B[0;32m   3656\u001B[0m \u001B[38;5;28;01mexcept\u001B[39;00m \u001B[38;5;167;01mTypeError\u001B[39;00m:\n\u001B[0;32m   3657\u001B[0m     \u001B[38;5;66;03m# If we have a listlike key, _check_indexing_error will raise\u001B[39;00m\n\u001B[0;32m   3658\u001B[0m     \u001B[38;5;66;03m#  InvalidIndexError. Otherwise we fall through and re-raise\u001B[39;00m\n\u001B[0;32m   3659\u001B[0m     \u001B[38;5;66;03m#  the TypeError.\u001B[39;00m\n\u001B[0;32m   3660\u001B[0m     \u001B[38;5;28mself\u001B[39m\u001B[38;5;241m.\u001B[39m_check_indexing_error(key)\n",
      "\u001B[1;31mKeyError\u001B[0m: 'gyrx'"
     ]
    }
   ],
   "source": [
    "differences = []\n",
    "i = 0\n",
    "for file in all_files:\n",
    "    (calculated1, expected1, _) = getSteps(file)\n",
    "    differences.append(len(expected1) - len(calculated1))\n",
    "    print(i, len(expected1), len(calculated1), file)\n",
    "    i += 1\n",
    "print(differences) "
   ],
   "metadata": {
    "collapsed": false,
    "ExecuteTime": {
     "end_time": "2024-04-19T08:55:47.245578700Z",
     "start_time": "2024-04-19T08:55:47.177856900Z"
    }
   },
   "id": "13be95fa77028960"
  },
  {
   "cell_type": "code",
   "execution_count": null,
   "outputs": [],
   "source": [
    "%matplotlib qt\n",
    "chart(getSteps(all_files[0]))"
   ],
   "metadata": {
    "collapsed": false,
    "ExecuteTime": {
     "start_time": "2024-04-19T08:55:47.243535600Z"
    }
   },
   "id": "aa7431cb704aa798"
  },
  {
   "cell_type": "code",
   "execution_count": null,
   "outputs": [],
   "source": [
    "#TODO: new datasets\n",
    "#TODO: new filter\n",
    "#TODO   "
   ],
   "metadata": {
    "collapsed": false,
    "ExecuteTime": {
     "start_time": "2024-04-19T08:55:47.244586300Z"
    }
   },
   "id": "f91bd868a6e4d51e"
  },
  {
   "cell_type": "code",
   "execution_count": null,
   "outputs": [],
   "source": [],
   "metadata": {
    "collapsed": false,
    "ExecuteTime": {
     "start_time": "2024-04-19T08:55:47.245578700Z"
    }
   },
   "id": "52c8235a1f8f9242"
  }
 ],
 "metadata": {
  "kernelspec": {
   "display_name": "Python 3",
   "language": "python",
   "name": "python3"
  },
  "language_info": {
   "codemirror_mode": {
    "name": "ipython",
    "version": 2
   },
   "file_extension": ".py",
   "mimetype": "text/x-python",
   "name": "python",
   "nbconvert_exporter": "python",
   "pygments_lexer": "ipython2",
   "version": "2.7.6"
  }
 },
 "nbformat": 4,
 "nbformat_minor": 5
}
