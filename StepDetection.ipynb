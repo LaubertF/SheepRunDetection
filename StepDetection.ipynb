{
 "cells": [
  {
   "cell_type": "code",
   "execution_count": null,
   "outputs": [],
   "source": [
    "import pandas as pd\n",
    "import matplotlib.pyplot as plt\n",
    "import steplib as msl"
   ],
   "metadata": {
    "collapsed": false
   },
   "id": "c26503a008ab1f84"
  },
  {
   "cell_type": "code",
   "execution_count": null,
   "outputs": [],
   "source": [
    "meter_df = pd.read_csv(\"Resources/premiera_test2.csv\")\n",
    "state_df = pd.read_csv('output.csv')"
   ],
   "metadata": {
    "collapsed": false
   },
   "id": "76aadab12465e7d7"
  },
  {
   "cell_type": "code",
   "execution_count": null,
   "outputs": [],
   "source": [
    "def add_states(plot,states):\n",
    "    state_df[\"Start\"] = pd.to_datetime(states[\"Start\"])\n",
    "    state_df[\"End\"] = pd.to_datetime(states[\"End\"])\n",
    "    for i in range(len(state_df)):\n",
    "        if state_df[\"State\"][i] == \"Run\":\n",
    "            color = \"lime\"\n",
    "        else:\n",
    "            color = \"indigo\"\n",
    "        plot.axvspan(state_df['Start'][i], state_df['End'][i], facecolor=color, alpha=0.5)"
   ],
   "metadata": {
    "collapsed": false
   },
   "id": "ab1ff2ae1479f7ac"
  },
  {
   "cell_type": "code",
   "execution_count": null,
   "outputs": [],
   "source": [
    "def chart(data_in, states):\n",
    "    x=pd.to_datetime(meter_df['datetime'])[12000:12500]\n",
    "    y=data_in #premiera_df['gyrz'][12000:]\n",
    "    plt.figure(figsize=(10,5))\n",
    "    plt.plot(x,y, color='red', marker='o')\n",
    "    plt.title(data_in.name)\n",
    "    plt.xlabel('datetime')\n",
    "    plt.ylabel('accx')\n",
    "    #show x label every 800\n",
    "    plt.xticks(x[::800])\n",
    "    plt.xticks(rotation=90)\n",
    "    #add rectangles\n",
    "    add_states(plt,states)\n",
    "    plt.show()"
   ],
   "metadata": {
    "collapsed": false
   },
   "id": "1d322552994a008"
  },
  {
   "cell_type": "code",
   "execution_count": null,
   "outputs": [],
   "source": [
    "def chart2(data_in):\n",
    "    x=pd.to_datetime(meter_df['datetime'])[12000:12500]\n",
    "    y=data_in #premiera_df['gyrz'][12000:]\n",
    "    plt.figure(figsize=(10,5))\n",
    "    plt.plot(x,y, color='red', marker='o')\n",
    "    plt.xlabel('datetime')\n",
    "    plt.ylabel('accx')\n",
    "    #show x label every 800\n",
    "    plt.xticks(x[::800])\n",
    "    plt.xticks(rotation=90)\n",
    "    #add rectangles\n",
    "    plt.show()"
   ],
   "metadata": {
    "collapsed": false
   },
   "id": "5fc192c583576a67"
  },
  {
   "cell_type": "code",
   "execution_count": null,
   "outputs": [],
   "source": [
    "data = meter_df['accx'][12000:12500]\n",
    "chart2(data)"
   ],
   "metadata": {
    "collapsed": false
   },
   "id": "8dae06f18a7d730e"
  },
  {
   "cell_type": "code",
   "execution_count": null,
   "outputs": [],
   "source": [
    "#apply filter 0.0158467315853596\t0.0457943754888393\t0.121235976281198\t0.200244477464560\t0.233756878360087\t0.200244477464560\t0.121235976281198\t0.0457943754888393\t0.0158467315853596\n",
    "data = msl.apply_filter(data, [0.0158467315853596,0.0457943754888393,0.121235976281198,0.200244477464560,0.233756878360087,0.200244477464560,0.121235976281198,0.0457943754888393,0.0158467315853596])\n",
    "chart2(data)"
   ],
   "metadata": {
    "collapsed": false
   },
   "id": "d114dbfb644fe8c6"
  },
  {
   "cell_type": "code",
   "execution_count": null,
   "outputs": [],
   "source": [
    "data = msl.max_difference(data, 10)\n",
    "chart2(data)"
   ],
   "metadata": {
    "collapsed": false
   },
   "id": "5d30c303937de3ca"
  },
  {
   "cell_type": "code",
   "execution_count": null,
   "outputs": [],
   "source": [
    "data = msl.detect_outliers(data, 0.5)\n",
    "chart2(data)"
   ],
   "metadata": {
    "collapsed": false
   },
   "id": "caed41b9bfd60b00"
  },
  {
   "cell_type": "code",
   "execution_count": null,
   "outputs": [],
   "source": [
    "data = msl.post_processing(data, 200, 5)\n",
    "chart2(data)"
   ],
   "metadata": {
    "collapsed": false
   },
   "id": "5c6e177f85697fa8"
  }
 ],
 "metadata": {
  "kernelspec": {
   "display_name": "Python 3",
   "language": "python",
   "name": "python3"
  },
  "language_info": {
   "codemirror_mode": {
    "name": "ipython",
    "version": 2
   },
   "file_extension": ".py",
   "mimetype": "text/x-python",
   "name": "python",
   "nbconvert_exporter": "python",
   "pygments_lexer": "ipython2",
   "version": "2.7.6"
  }
 },
 "nbformat": 4,
 "nbformat_minor": 5
}
