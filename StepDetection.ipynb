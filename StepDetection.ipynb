{
 "cells": [
  {
   "cell_type": "code",
   "execution_count": null,
   "id": "initial_id",
   "metadata": {
    "collapsed": true
   },
   "outputs": [],
   "source": [
    "import pandas as pd\n",
    "import matplotlib.pyplot as plt"
   ]
  },
  {
   "cell_type": "code",
   "execution_count": 1,
   "outputs": [],
   "source": [
    "import MyStepLib as msl"
   ],
   "metadata": {
    "collapsed": false,
    "ExecuteTime": {
     "end_time": "2023-11-05T23:35:46.531920700Z",
     "start_time": "2023-11-05T23:35:46.524046400Z"
    }
   },
   "id": "b2e06fc4b391a697"
  },
  {
   "cell_type": "code",
   "execution_count": null,
   "outputs": [],
   "source": [
    "meter_df = pd.read_csv(\"Resources/premiera_test2.csv\")\n",
    "state_df = pd.read_csv('output.csv')"
   ],
   "metadata": {
    "collapsed": false
   },
   "id": "539300154729f270"
  },
  {
   "cell_type": "markdown",
   "source": [],
   "metadata": {
    "collapsed": false
   },
   "id": "4060ad3d9bbf65b4"
  },
  {
   "cell_type": "code",
   "execution_count": null,
   "outputs": [],
   "source": [
    "def chart2(data):\n",
    "    x=pd.to_datetime(meter_df['datetime'])[12000:12500]\n",
    "    y=data[12000:12500]\n",
    "    plt.figure(figsize=(10,5))\n",
    "    plt.plot(x,y, color='red', marker='o')\n",
    "    plt.xlabel('datetime')\n",
    "    plt.ylabel('accx')\n",
    "    #show x label every 800\n",
    "    plt.xticks(x[::800])\n",
    "    plt.xticks(rotation=90)\n",
    "    #add rectangles\n",
    "    plt.show()\n"
   ],
   "metadata": {
    "collapsed": false
   },
   "id": "c0af07a64e5ac8a3"
  },
  {
   "cell_type": "code",
   "execution_count": null,
   "outputs": [],
   "source": [
    "data = meter_df['accx']\n",
    "data = msl.apply_filter(data, [0.0158467315853596,0.0457943754888393,0.121235976281198,0.200244477464560,0.233756878360087,0.200244477464560,0.121235976281198,0.0457943754888393,0.0158467315853596])\n",
    "chart2(data)"
   ],
   "metadata": {
    "collapsed": false
   },
   "id": "8f2e4d2d7ef0d93a"
  },
  {
   "cell_type": "code",
   "execution_count": null,
   "outputs": [],
   "source": [
    "data = meter_df['accx']\n",
    "data = msl.detect_outliers(data, 2)\n",
    "chart2(data)"
   ],
   "metadata": {
    "collapsed": false
   },
   "id": "53f4a5d3b8e5db1f"
  },
  {
   "cell_type": "code",
   "execution_count": null,
   "outputs": [],
   "source": [
    "data = meter_df['accx']\n",
    "data = msl.max_difference(data, 10)\n",
    "chart2(data)"
   ],
   "metadata": {
    "collapsed": false
   },
   "id": "d657cf9c51d33d8f"
  },
  {
   "cell_type": "code",
   "execution_count": null,
   "outputs": [],
   "source": [
    "def add_states(plot,states):\n",
    "    state_df[\"Start\"] = pd.to_datetime(states[\"Start\"])\n",
    "    state_df[\"End\"] = pd.to_datetime(states[\"End\"])\n",
    "    for i in range(len(state_df)):\n",
    "        if state_df[\"State\"][i] == \"Run\":\n",
    "            color = \"lime\"\n",
    "        else:\n",
    "            color = \"indigo\"\n",
    "        plot.axvspan(state_df['Start'][i], state_df['End'][i], facecolor=color, alpha=0.5)"
   ],
   "metadata": {
    "collapsed": false
   },
   "id": "d6b943febb388ee7"
  },
  {
   "cell_type": "code",
   "execution_count": null,
   "outputs": [],
   "source": [
    "def chart(data,states):\n",
    "    x=pd.to_datetime(meter_df['datetime'])\n",
    "    y=data #premiera_df['gyrz'][12000:]\n",
    "    plt.figure(figsize=(10,5))\n",
    "    plt.plot(x,y, color='red', marker='o')\n",
    "    plt.title(data.name)\n",
    "    plt.xlabel('datetime')\n",
    "    plt.ylabel('accx')\n",
    "    #show x label every 800\n",
    "    plt.xticks(x[::800])\n",
    "    plt.xticks(rotation=90)\n",
    "    #add rectangles\n",
    "    add_states(plt,states)\n",
    "    plt.show()"
   ],
   "metadata": {
    "collapsed": false
   },
   "id": "7d92b9b51d08906f"
  },
  {
   "cell_type": "code",
   "execution_count": null,
   "outputs": [],
   "source": [
    "chart(meter_df['accz'],state_df)"
   ],
   "metadata": {
    "collapsed": false
   },
   "id": "8acab935c558cbd3"
  },
  {
   "cell_type": "code",
   "execution_count": null,
   "outputs": [],
   "source": [
    "#iterate over columns\n",
    "for col in meter_df.columns:\n",
    "    if col == 'datetime':\n",
    "        continue\n",
    "    print(col)\n",
    "    chart(meter_df[col],state_df)"
   ],
   "metadata": {
    "collapsed": false
   },
   "id": "e573763f5b30aac7"
  },
  {
   "cell_type": "markdown",
   "source": [],
   "metadata": {
    "collapsed": false
   },
   "id": "cf0d25a1f6a0b18e"
  }
 ],
 "metadata": {
  "kernelspec": {
   "display_name": "Python 3",
   "language": "python",
   "name": "python3"
  },
  "language_info": {
   "codemirror_mode": {
    "name": "ipython",
    "version": 2
   },
   "file_extension": ".py",
   "mimetype": "text/x-python",
   "name": "python",
   "nbconvert_exporter": "python",
   "pygments_lexer": "ipython2",
   "version": "2.7.6"
  }
 },
 "nbformat": 4,
 "nbformat_minor": 5
}
