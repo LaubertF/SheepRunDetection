{
 "cells": [
  {
   "cell_type": "code",
   "execution_count": 3,
   "outputs": [],
   "source": [
    "import os\n",
    "\n",
    "import pandas as pd\n",
    "import matplotlib.pyplot as plt\n",
    "import steplib as msl\n",
    "%matplotlib inline"
   ],
   "metadata": {
    "collapsed": false,
    "ExecuteTime": {
     "end_time": "2024-04-25T10:29:02.196616600Z",
     "start_time": "2024-04-25T10:29:00.890014200Z"
    }
   },
   "id": "c26503a008ab1f84"
  },
  {
   "cell_type": "code",
   "execution_count": 6,
   "outputs": [],
   "source": [
    "PATH = \"Data\"\n",
    "all_files = [os.path.join(dp, f) for dp, dn, filenames in os.walk(PATH) for f in filenames if os.path.splitext(f)[1] == '.txt']\n",
    "# Create pairs of consecutive files\n",
    "file_pairs = [(all_files[i], all_files[i + 1]) for i in range(0,len(all_files) - 1, 2)]\n"
   ],
   "metadata": {
    "collapsed": false,
    "ExecuteTime": {
     "end_time": "2024-04-23T16:11:44.983027400Z",
     "start_time": "2024-04-23T16:11:44.964109300Z"
    }
   },
   "id": "1ef4f9994b4a9c57"
  },
  {
   "cell_type": "markdown",
   "source": [],
   "metadata": {
    "collapsed": false
   },
   "id": "540006408cfc5b5f"
  },
  {
   "cell_type": "code",
   "execution_count": 7,
   "outputs": [],
   "source": [
    "def writeAnnotations(file_pair):\n",
    "    meter = pd.read_csv(file_pair[0], sep=' ')\n",
    "    annotation = pd.read_csv(file_pair[1], sep=' ')\n",
    "    annotations = annotation.iloc[:, 0]\n",
    "    #delete column annotation\n",
    "    #create names for columns\n",
    "    \n",
    "    \n",
    "    meter.columns = ['x1', 'y1', 'z1', 'x', 'y', 'z', 'x3', 'y3', 'z3']\n",
    "    meter['annotation'] = 0\n",
    "    #add names to 3,4,5 columns\n",
    "\n",
    "    for c in annotations:\n",
    "        meter.at[c, 'annotation'] = 1\n",
    "    \n",
    "    \n",
    "    meter.to_csv(file_pair[0], sep=' ', index=False)"
   ],
   "metadata": {
    "collapsed": false,
    "ExecuteTime": {
     "end_time": "2024-04-23T16:11:47.049265700Z",
     "start_time": "2024-04-23T16:11:47.031447400Z"
    }
   },
   "id": "709479a5c929e0f9"
  },
  {
   "cell_type": "code",
   "execution_count": 11,
   "outputs": [],
   "source": [
    "separateByComma(file_pairs[0][0])"
   ],
   "metadata": {
    "collapsed": false,
    "ExecuteTime": {
     "end_time": "2024-04-23T16:12:24.892602500Z",
     "start_time": "2024-04-23T16:12:24.803824200Z"
    }
   },
   "id": "5f4dbc8d3063ba7c"
  },
  {
   "cell_type": "code",
   "execution_count": 48,
   "outputs": [],
   "source": [
    "for pair in file_pairs:\n",
    "    writeAnnotations(pair)"
   ],
   "metadata": {
    "collapsed": false,
    "ExecuteTime": {
     "end_time": "2024-04-23T14:54:12.713123400Z",
     "start_time": "2024-04-23T14:54:06.346202600Z"
    }
   },
   "id": "4c555543474c8169"
  },
  {
   "cell_type": "code",
   "execution_count": 9,
   "outputs": [],
   "source": [
    "def separateByComma(file):\n",
    "    meter = pd.read_csv(file, sep=' ')\n",
    "    meter.to_csv(file, sep=',', index=False)"
   ],
   "metadata": {
    "collapsed": false,
    "ExecuteTime": {
     "end_time": "2024-04-23T16:12:00.292159Z",
     "start_time": "2024-04-23T16:12:00.252936600Z"
    }
   },
   "id": "b2d77fbb5481a0c0"
  },
  {
   "cell_type": "code",
   "execution_count": 59,
   "outputs": [],
   "source": [
    "for pair in file_pairs:\n",
    "    separateByComma(pair[0])"
   ],
   "metadata": {
    "collapsed": false,
    "ExecuteTime": {
     "end_time": "2024-04-23T15:03:59.703789400Z",
     "start_time": "2024-04-23T15:03:53.809388600Z"
    }
   },
   "id": "e78c2437a1634eb2"
  },
  {
   "cell_type": "code",
   "execution_count": 40,
   "outputs": [],
   "source": [
    "def writeSheepAnnotations(file_pair):\n",
    "    meter = pd.read_csv(file_pair[0]+\"1\", sep=',')\n",
    "    annotation = pd.read_csv(file_pair[1], sep=',')\n",
    "    annotations = annotation[\"content\"]\n",
    "    #row datetime to pandas datetime\n",
    "    meter['datetime'] = pd.to_datetime(meter['datetime'], format='%M:%S.%f')\n",
    "    #datetime to seconds\n",
    "    meter['datetime'] = meter['datetime'].dt.minute*60 + meter['datetime'].dt.second + meter['datetime'].dt.microsecond/1e6\n",
    "    \n",
    "    \n",
    "    #delete column annotation\n",
    "    #create names for columns\n",
    "    meter.columns = ['datetime', 'x', 'y', 'z', 'gyrx', 'gyry', 'gyrz', 'magx', 'magy', 'magz','annotation','a','b']\n",
    "    meter['annotation'] = 0\n",
    "    #add names to 3,4,5 columns\n",
    "\n",
    "    for c in annotations:\n",
    "        time = c\n",
    "\n",
    "        row = meter[meter['datetime'] > time].index[0]\n",
    "        print(row)\n",
    "        meter.at[row, 'annotation'] = 1\n",
    "\n",
    "    meter.to_csv(file_pair[0], sep=',', index=False)"
   ],
   "metadata": {
    "collapsed": false,
    "ExecuteTime": {
     "end_time": "2024-04-25T11:12:19.608844900Z",
     "start_time": "2024-04-25T11:12:19.597018300Z"
    }
   },
   "id": "a1227df95beb9344"
  },
  {
   "cell_type": "code",
   "execution_count": 41,
   "outputs": [
    {
     "name": "stdout",
     "output_type": "stream",
     "text": [
      "1032\n",
      "1092\n",
      "1129\n",
      "1219\n",
      "1332\n",
      "1392\n",
      "1444\n",
      "1482\n",
      "1542\n",
      "1594\n",
      "1654\n",
      "1692\n",
      "1744\n",
      "1819\n",
      "1857\n",
      "1894\n",
      "1954\n",
      "1992\n",
      "2029\n",
      "2082\n",
      "2119\n",
      "2179\n",
      "2217\n",
      "2292\n",
      "2329\n",
      "2382\n",
      "2419\n",
      "2457\n",
      "2517\n",
      "2569\n",
      "2629\n",
      "2682\n",
      "2757\n",
      "2794\n",
      "2832\n",
      "2869\n",
      "2944\n",
      "2982\n",
      "3042\n",
      "3117\n",
      "3154\n",
      "3192\n",
      "3267\n",
      "3319\n",
      "3379\n",
      "3582\n",
      "3657\n",
      "3694\n",
      "3732\n",
      "3769\n",
      "3807\n",
      "3882\n",
      "4054\n",
      "4371\n",
      "4461\n",
      "4498\n",
      "4544\n",
      "4586\n",
      "4661\n",
      "4736\n",
      "4796\n",
      "5428\n",
      "6313\n",
      "6466\n",
      "6519\n",
      "6565\n",
      "6771\n",
      "6844\n",
      "6935\n",
      "6935\n",
      "6935\n",
      "6935\n",
      "7014\n",
      "7360\n",
      "7585\n",
      "7871\n",
      "7871\n",
      "8290\n",
      "8290\n",
      "8328\n",
      "8425\n",
      "8515\n",
      "8665\n",
      "8725\n",
      "9025\n",
      "9078\n",
      "9115\n",
      "9232\n",
      "9489\n",
      "9564\n",
      "9691\n",
      "9787\n",
      "10093\n",
      "10130\n",
      "10168\n",
      "10228\n",
      "10265\n",
      "10265\n",
      "10318\n",
      "10505\n",
      "10691\n",
      "10728\n",
      "10803\n",
      "10803\n",
      "10841\n",
      "10901\n",
      "11051\n",
      "11141\n",
      "11201\n",
      "11238\n",
      "11238\n",
      "11238\n",
      "11276\n",
      "11291\n",
      "11313\n",
      "11364\n",
      "11381\n",
      "11396\n",
      "11434\n",
      "11507\n",
      "11536\n",
      "11571\n",
      "11627\n",
      "11660\n",
      "11713\n",
      "11773\n",
      "11825\n",
      "11862\n",
      "11974\n",
      "12184\n",
      "12222\n",
      "12407\n",
      "12534\n",
      "12631\n",
      "12833\n",
      "13005\n",
      "13095\n",
      "13155\n",
      "13193\n",
      "13230\n",
      "13267\n",
      "13304\n",
      "13319\n",
      "13379\n",
      "13417\n",
      "13566\n",
      "13626\n",
      "13641\n",
      "13678\n",
      "13713\n",
      "13735\n",
      "13788\n",
      "13885\n",
      "13944\n",
      "13955\n",
      "14011\n",
      "14064\n",
      "14086\n",
      "14124\n",
      "14161\n",
      "14236\n",
      "14430\n",
      "14468\n",
      "14505\n",
      "14580\n",
      "14617\n",
      "14654\n",
      "14707\n",
      "14729\n",
      "14767\n",
      "14842\n",
      "14917\n",
      "14917\n",
      "14954\n",
      "15007\n",
      "15081\n",
      "15118\n",
      "15156\n",
      "15178\n",
      "15216\n",
      "15253\n",
      "15305\n",
      "15327\n",
      "15380\n",
      "15417\n",
      "15492\n",
      "15514\n",
      "15775\n",
      "15828\n",
      "15850\n",
      "15888\n",
      "15925\n",
      "15963\n",
      "16000\n",
      "16149\n",
      "16202\n",
      "16224\n",
      "16276\n",
      "16298\n",
      "16351\n",
      "16426\n",
      "16463\n",
      "16485\n",
      "16522\n",
      "16560\n",
      "16575\n",
      "16597\n",
      "16649\n",
      "16671\n",
      "16724\n",
      "16784\n",
      "16799\n",
      "16836\n",
      "16859\n",
      "16911\n",
      "16949\n",
      "16949\n",
      "16949\n",
      "16949\n",
      "16971\n",
      "17009\n",
      "17024\n",
      "17046\n",
      "17084\n",
      "17136\n",
      "17196\n",
      "17233\n"
     ]
    }
   ],
   "source": [
    "writeSheepAnnotations((\"Sheep/outputMax.csv\", \"Sheep/GroundMax.csv\"))"
   ],
   "metadata": {
    "collapsed": false,
    "ExecuteTime": {
     "end_time": "2024-04-25T11:12:21.099078500Z",
     "start_time": "2024-04-25T11:12:20.871988500Z"
    }
   },
   "id": "90b7744291d4a741"
  },
  {
   "cell_type": "code",
   "execution_count": 11,
   "outputs": [],
   "source": [
    "meter = pd.read_csv(\"Sheep/outputMax.csv\", sep=',')"
   ],
   "metadata": {
    "collapsed": false,
    "ExecuteTime": {
     "end_time": "2024-04-23T17:40:42.921692900Z",
     "start_time": "2024-04-23T17:40:42.882344200Z"
    }
   },
   "id": "4c64c6bd35e66f64"
  },
  {
   "cell_type": "code",
   "execution_count": 39,
   "outputs": [
    {
     "data": {
      "text/plain": "                  datetime      accx      accy      accz  gyrx      gyry  \\\n0  2024-03-30 16:29:12.000  0.776611  0.293945  0.569580   0.0  0.808716   \n1  2024-03-30 16:29:12.013  0.775635  0.294678  0.562744   0.0  1.296997   \n2  2024-03-30 16:29:12.027  0.768311  0.293945  0.556396   0.0  1.831055   \n3  2024-03-30 16:29:12.040  0.753906  0.280762  0.556641   0.0  2.212524   \n4  2024-03-30 16:29:12.053  0.750244  0.275146  0.558105   0.0  1.998901   \n\n       gyrz       magx       magy       magz  \n0  0.625610 -34.935775 -16.343346 -62.524542  \n1  1.052856 -34.935775 -16.343346 -62.524542  \n2  1.220703 -34.935775 -16.343346 -62.524542  \n3  1.159668 -34.935775 -16.343346 -62.524542  \n4  0.793457 -34.935775 -16.343346 -62.524542  ",
      "text/html": "<div>\n<style scoped>\n    .dataframe tbody tr th:only-of-type {\n        vertical-align: middle;\n    }\n\n    .dataframe tbody tr th {\n        vertical-align: top;\n    }\n\n    .dataframe thead th {\n        text-align: right;\n    }\n</style>\n<table border=\"1\" class=\"dataframe\">\n  <thead>\n    <tr style=\"text-align: right;\">\n      <th></th>\n      <th>datetime</th>\n      <th>accx</th>\n      <th>accy</th>\n      <th>accz</th>\n      <th>gyrx</th>\n      <th>gyry</th>\n      <th>gyrz</th>\n      <th>magx</th>\n      <th>magy</th>\n      <th>magz</th>\n    </tr>\n  </thead>\n  <tbody>\n    <tr>\n      <th>0</th>\n      <td>2024-03-30 16:29:12.000</td>\n      <td>0.776611</td>\n      <td>0.293945</td>\n      <td>0.569580</td>\n      <td>0.0</td>\n      <td>0.808716</td>\n      <td>0.625610</td>\n      <td>-34.935775</td>\n      <td>-16.343346</td>\n      <td>-62.524542</td>\n    </tr>\n    <tr>\n      <th>1</th>\n      <td>2024-03-30 16:29:12.013</td>\n      <td>0.775635</td>\n      <td>0.294678</td>\n      <td>0.562744</td>\n      <td>0.0</td>\n      <td>1.296997</td>\n      <td>1.052856</td>\n      <td>-34.935775</td>\n      <td>-16.343346</td>\n      <td>-62.524542</td>\n    </tr>\n    <tr>\n      <th>2</th>\n      <td>2024-03-30 16:29:12.027</td>\n      <td>0.768311</td>\n      <td>0.293945</td>\n      <td>0.556396</td>\n      <td>0.0</td>\n      <td>1.831055</td>\n      <td>1.220703</td>\n      <td>-34.935775</td>\n      <td>-16.343346</td>\n      <td>-62.524542</td>\n    </tr>\n    <tr>\n      <th>3</th>\n      <td>2024-03-30 16:29:12.040</td>\n      <td>0.753906</td>\n      <td>0.280762</td>\n      <td>0.556641</td>\n      <td>0.0</td>\n      <td>2.212524</td>\n      <td>1.159668</td>\n      <td>-34.935775</td>\n      <td>-16.343346</td>\n      <td>-62.524542</td>\n    </tr>\n    <tr>\n      <th>4</th>\n      <td>2024-03-30 16:29:12.053</td>\n      <td>0.750244</td>\n      <td>0.275146</td>\n      <td>0.558105</td>\n      <td>0.0</td>\n      <td>1.998901</td>\n      <td>0.793457</td>\n      <td>-34.935775</td>\n      <td>-16.343346</td>\n      <td>-62.524542</td>\n    </tr>\n  </tbody>\n</table>\n</div>"
     },
     "execution_count": 39,
     "metadata": {},
     "output_type": "execute_result"
    }
   ],
   "source": [
    "meter.head()"
   ],
   "metadata": {
    "collapsed": false,
    "ExecuteTime": {
     "end_time": "2024-04-23T18:23:19.329539700Z",
     "start_time": "2024-04-23T18:23:19.318971300Z"
    }
   },
   "id": "a5cbd2b76ba3f7e"
  },
  {
   "cell_type": "code",
   "execution_count": 22,
   "outputs": [],
   "source": [
    "def chart(data_in):\n",
    "    (calculated, expected, accelerometer) = data_in\n",
    "    x=range(len(accelerometer))\n",
    "    y=accelerometer\n",
    "    plt.figure(figsize=(10,5))\n",
    "    plt.plot(x,y, color='red', marker='o')\n",
    "    plt.xlabel('index')\n",
    "    plt.ylabel('magnitude')\n",
    "    #show x label every 800\n",
    "    plt.xticks(x[::500])\n",
    "    plt.xticks(rotation=90)\n",
    "    #add rectangles\n",
    "    for e in expected:\n",
    "        plt.axvline(x =e, color ='g', label ='axvline - full height', ymin=0.5, alpha=0.1)\n",
    "    for c in calculated:\n",
    "        plt.axvline(x =c, color ='b', label ='axvline - full height', ymax=0.5, alpha=0.1)\n",
    "    plt.show()"
   ],
   "metadata": {
    "collapsed": false,
    "ExecuteTime": {
     "end_time": "2024-04-23T14:44:20.008489200Z",
     "start_time": "2024-04-23T14:44:19.992993300Z"
    }
   },
   "id": "5fc192c583576a67"
  },
  {
   "cell_type": "code",
   "execution_count": 24,
   "outputs": [
    {
     "data": {
      "text/plain": "<Figure size 1000x500 with 1 Axes>",
      "image/png": "[encoded data removed]"
     },
     "metadata": {},
     "output_type": "display_data"
    }
   ],
   "source": [
    "chart(getSteps(file_pairs[1]))"
   ],
   "metadata": {
    "collapsed": false,
    "ExecuteTime": {
     "end_time": "2024-04-23T14:44:35.024402600Z",
     "start_time": "2024-04-23T14:44:33.164715900Z"
    }
   },
   "id": "3f073d2206d82e9a"
  },
  {
   "cell_type": "code",
   "execution_count": 30,
   "outputs": [
    {
     "name": "stdout",
     "output_type": "stream",
     "text": [
      "0 198 213 Data\\P001\\Irregular\\P001_Irregular.txt\n",
      "1 936 993 Data\\P001\\Regular\\P001_Regular.txt\n",
      "2 702 607 Data\\P001\\SemiRegular\\P001_Semiregular.txt\n",
      "3 216 288 Data\\P002\\Irregular\\P002_Irregular.txt\n",
      "4 1223 1147 Data\\P002\\Regular\\P002_Regular.txt\n",
      "5 646 521 Data\\P002\\SemiRegular\\P002_Semiregular.txt\n",
      "6 223 247 Data\\P003\\Irregular\\P003_Irregular.txt\n",
      "7 1052 1063 Data\\P003\\Regular\\P003_Regular.txt\n",
      "8 715 678 Data\\P003\\SemiRegular\\P003_Semiregular.txt\n",
      "9 227 241 Data\\P004\\Irregular\\P004_Irregular.txt\n",
      "10 1100 1231 Data\\P004\\Regular\\P004_Regular.txt\n",
      "11 613 557 Data\\P004\\SemiRegular\\P004_Semiregular.txt\n",
      "12 216 291 Data\\P005\\Irregular\\P005_Irregular.txt\n",
      "13 1043 1197 Data\\P005\\Regular\\P005_Regular.txt\n",
      "14 667 783 Data\\P005\\SemiRegular\\P005_Semiregular.txt\n",
      "15 194 235 Data\\P006\\Irregular\\P006_Irregular.txt\n",
      "16 913 910 Data\\P006\\Regular\\P006_Regular.txt\n",
      "17 700 718 Data\\P006\\SemiRegular\\P006_Semiregular.txt\n",
      "18 222 393 Data\\P007\\Irregular\\P007_Irregular.txt\n",
      "19 1228 1373 Data\\P007\\Regular\\P007_Regular.txt\n",
      "20 759 738 Data\\P007\\SemiRegular\\P007_Semiregular.txt\n",
      "21 242 297 Data\\P008\\Irregular\\P008_Irregular.txt\n",
      "22 1033 1050 Data\\P008\\Regular\\P008_Regular.txt\n",
      "23 824 748 Data\\P008\\SemiRegular\\P008_Semiregular.txt\n",
      "24 265 347 Data\\P009\\Irregular\\P009_Irregular.txt\n",
      "25 1106 1160 Data\\P009\\Regular\\P009_Regular.txt\n",
      "26 700 605 Data\\P009\\SemiRegular\\P009_Semiregular.txt\n",
      "27 246 317 Data\\P010\\Irregular\\P010_Irregular.txt\n",
      "28 1013 1279 Data\\P010\\Regular\\P010_Regular.txt\n",
      "29 655 616 Data\\P010\\SemiRegular\\P010_Semiregular.txt\n",
      "30 238 294 Data\\P011\\Irregular\\P011_Irregular.txt\n",
      "31 1069 1245 Data\\P011\\Regular\\P011_Regular.txt\n",
      "32 699 719 Data\\P011\\SemiRegular\\P011_Semiregular.txt\n",
      "33 203 293 Data\\P012\\Irregular\\P012_Irregular.txt\n",
      "34 1006 1073 Data\\P012\\Regular\\P012_Regular.txt\n",
      "35 640 658 Data\\P012\\SemiRegular\\P012_Semiregular.txt\n",
      "36 215 306 Data\\P013\\Irregular\\P013_Irregular.txt\n",
      "37 999 1151 Data\\P013\\Regular\\P013_Regular.txt\n",
      "38 814 826 Data\\P013\\SemiRegular\\P013_Semiregular.txt\n",
      "39 216 311 Data\\P014\\Irregular\\P014_Irregular.txt\n",
      "40 1051 1085 Data\\P014\\Regular\\P014_Regular.txt\n",
      "41 912 821 Data\\P014\\SemiRegular\\P014_Semiregular.txt\n",
      "42 217 303 Data\\P015\\Irregular\\P015_Irregular.txt\n",
      "43 963 1157 Data\\P015\\Regular\\P015_Regular.txt\n",
      "44 772 812 Data\\P015\\SemiRegular\\P015_Semiregular.txt\n",
      "45 271 344 Data\\P016\\Irregular\\P016_Irregular.txt\n",
      "46 1108 1303 Data\\P016\\Regular\\P016_Regular.txt\n",
      "47 680 757 Data\\P016\\SemiRegular\\P016_Semiregular.txt\n",
      "48 239 345 Data\\P017\\Irregular\\P017_Irregular.txt\n",
      "49 1028 1305 Data\\P017\\Regular\\P017_Regular.txt\n",
      "50 836 849 Data\\P017\\SemiRegular\\P017_Semiregular.txt\n",
      "51 251 424 Data\\P018\\Irregular\\P018_Irregular.txt\n",
      "52 1041 1417 Data\\P018\\Regular\\P018_Regular.txt\n",
      "53 800 1041 Data\\P018\\SemiRegular\\P018_Semiregular.txt\n",
      "54 244 281 Data\\P019\\Irregular\\P019_Irregular.txt\n",
      "55 1072 1280 Data\\P019\\Regular\\P019_Regular.txt\n",
      "56 751 685 Data\\P019\\SemiRegular\\P019_Semiregular.txt\n",
      "57 251 266 Data\\P020\\Irregular\\P020_Irregular.txt\n",
      "58 1248 1251 Data\\P020\\Regular\\P020_Regular.txt\n",
      "59 840 771 Data\\P020\\SemiRegular\\P020_Semiregular.txt\n",
      "60 203 288 Data\\P021\\Irregular\\P021_Irregular.txt\n",
      "61 919 1029 Data\\P021\\Regular\\P021_Regular.txt\n",
      "62 548 611 Data\\P021\\SemiRegular\\P021_Semiregular.txt\n",
      "63 245 317 Data\\P022\\Irregular\\P022_Irregular.txt\n",
      "64 945 1039 Data\\P022\\Regular\\P022_Regular.txt\n",
      "65 701 662 Data\\P022\\SemiRegular\\P022_Semiregular.txt\n",
      "66 265 363 Data\\P023\\Irregular\\P023_Irregular.txt\n",
      "67 998 1264 Data\\P023\\Regular\\P023_Regular.txt\n",
      "68 834 934 Data\\P023\\SemiRegular\\P023_Semiregular.txt\n",
      "69 246 318 Data\\P024\\Irregular\\P024_Irregular.txt\n",
      "70 1078 1078 Data\\P024\\Regular\\P024_Regular.txt\n",
      "71 679 661 Data\\P024\\SemiRegular\\P024_Semiregular.txt\n",
      "72 206 370 Data\\P025\\Irregular\\P025_Irregular.txt\n",
      "73 945 981 Data\\P025\\Regular\\P025_Regular.txt\n",
      "74 717 707 Data\\P025\\SemiRegular\\P025_Semiregular.txt\n",
      "75 213 302 Data\\P026\\Irregular\\P026_Irregular.txt\n",
      "76 984 1205 Data\\P026\\Regular\\P026_Regular.txt\n",
      "77 719 767 Data\\P026\\SemiRegular\\P026_Semiregular.txt\n",
      "78 269 378 Data\\P027\\Irregular\\P027_Irregular.txt\n",
      "79 1165 1304 Data\\P027\\Regular\\P027_Regular.txt\n",
      "80 727 699 Data\\P027\\SemiRegular\\P027_Semiregular.txt\n",
      "81 292 452 Data\\P028\\Irregular\\P028_Irregular.txt\n",
      "82 1097 1301 Data\\P028\\Regular\\P028_Regular.txt\n",
      "83 858 845 Data\\P028\\SemiRegular\\P028_Semiregular.txt\n",
      "84 246 354 Data\\P029\\Irregular\\P029_Irregular.txt\n",
      "85 1139 1220 Data\\P029\\Regular\\P029_Regular.txt\n",
      "86 868 917 Data\\P029\\SemiRegular\\P029_Semiregular.txt\n",
      "87 249 305 Data\\P030\\Irregular\\P030_Irregular.txt\n",
      "88 996 1001 Data\\P030\\Regular\\P030_Regular.txt\n",
      "89 809 747 Data\\P030\\SemiRegular\\P030_Semiregular.txt\n",
      "[-15, -57, 95, -72, 76, 125, -24, -11, 37, -14, -131, 56, -75, -154, -116, -41, 3, -18, -171, -145, 21, -55, -17, 76, -82, -54, 95, -71, -266, 39, -56, -176, -20, -90, -67, -18, -91, -152, -12, -95, -34, 91, -86, -194, -40, -73, -195, -77, -106, -277, -13, -173, -376, -241, -37, -208, 66, -15, -3, 69, -85, -110, -63, -72, -94, 39, -98, -266, -100, -72, 0, 18, -164, -36, 10, -89, -221, -48, -109, -139, 28, -160, -204, 13, -108, -81, -49, -56, -5, 62]\n"
     ]
    }
   ],
   "source": [
    "differences = []\n",
    "i = 0\n",
    "for pair in file_pairs:\n",
    "    (calculated1, expected1, _) = getSteps(pair)\n",
    "    differences.append(len(expected1) - len(calculated1))\n",
    "    print(i, len(expected1), len(calculated1), pair[0])\n",
    "    i += 1\n",
    "print(differences) "
   ],
   "metadata": {
    "collapsed": false,
    "ExecuteTime": {
     "end_time": "2024-03-09T10:27:34.435084100Z",
     "start_time": "2024-03-09T10:26:20.809704200Z"
    }
   },
   "id": "13be95fa77028960"
  },
  {
   "cell_type": "code",
   "execution_count": 31,
   "outputs": [],
   "source": [
    "%matplotlib qt\n",
    "chart(getSteps(file_pairs[76]))"
   ],
   "metadata": {
    "collapsed": false,
    "ExecuteTime": {
     "end_time": "2024-03-09T10:30:58.815222200Z",
     "start_time": "2024-03-09T10:30:57.471475Z"
    }
   },
   "id": "aa7431cb704aa798"
  }
 ],
 "metadata": {
  "kernelspec": {
   "display_name": "Python 3",
   "language": "python",
   "name": "python3"
  },
  "language_info": {
   "codemirror_mode": {
    "name": "ipython",
    "version": 2
   },
   "file_extension": ".py",
   "mimetype": "text/x-python",
   "name": "python",
   "nbconvert_exporter": "python",
   "pygments_lexer": "ipython2",
   "version": "2.7.6"
  }
 },
 "nbformat": 4,
 "nbformat_minor": 5
}
