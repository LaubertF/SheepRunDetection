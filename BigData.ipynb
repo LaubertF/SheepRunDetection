{
 "cells": [
  {
   "cell_type": "code",
   "execution_count": 223,
   "outputs": [],
   "source": [
    "import os\n",
    "\n",
    "import pandas as pd\n",
    "import matplotlib.pyplot as plt\n",
    "import steplib as msl\n",
    "%matplotlib inline"
   ],
   "metadata": {
    "collapsed": false,
    "ExecuteTime": {
     "end_time": "2024-02-27T10:36:58.823563500Z",
     "start_time": "2024-02-27T10:36:58.783119700Z"
    }
   },
   "id": "c26503a008ab1f84"
  },
  {
   "cell_type": "code",
   "execution_count": 224,
   "outputs": [
    {
     "name": "stdout",
     "output_type": "stream",
     "text": [
      "Pair: Data\\P001\\Irregular\\P001_Irregular.txt and Data\\P001\\Irregular\\steps.txt\n",
      "Pair: Data\\P001\\Irregular\\steps.txt and Data\\P001\\Regular\\P001_Regular.txt\n",
      "Pair: Data\\P001\\Regular\\P001_Regular.txt and Data\\P001\\Regular\\steps.txt\n",
      "Pair: Data\\P001\\Regular\\steps.txt and Data\\P001\\SemiRegular\\P001_Semiregular.txt\n",
      "Pair: Data\\P001\\SemiRegular\\P001_Semiregular.txt and Data\\P001\\SemiRegular\\steps.txt\n",
      "Pair: Data\\P001\\SemiRegular\\steps.txt and Data\\P002\\Irregular\\P002_Irregular.txt\n",
      "Pair: Data\\P002\\Irregular\\P002_Irregular.txt and Data\\P002\\Irregular\\steps.txt\n",
      "Pair: Data\\P002\\Irregular\\steps.txt and Data\\P002\\Regular\\P002_Regular.txt\n",
      "Pair: Data\\P002\\Regular\\P002_Regular.txt and Data\\P002\\Regular\\steps.txt\n",
      "Pair: Data\\P002\\Regular\\steps.txt and Data\\P002\\SemiRegular\\P002_Semiregular.txt\n",
      "Pair: Data\\P002\\SemiRegular\\P002_Semiregular.txt and Data\\P002\\SemiRegular\\steps.txt\n",
      "Pair: Data\\P002\\SemiRegular\\steps.txt and Data\\P003\\Irregular\\P003_Irregular.txt\n",
      "Pair: Data\\P003\\Irregular\\P003_Irregular.txt and Data\\P003\\Irregular\\steps.txt\n",
      "Pair: Data\\P003\\Irregular\\steps.txt and Data\\P003\\Regular\\P003_Regular.txt\n",
      "Pair: Data\\P003\\Regular\\P003_Regular.txt and Data\\P003\\Regular\\steps.txt\n",
      "Pair: Data\\P003\\Regular\\steps.txt and Data\\P003\\SemiRegular\\P003_Semiregular.txt\n",
      "Pair: Data\\P003\\SemiRegular\\P003_Semiregular.txt and Data\\P003\\SemiRegular\\steps.txt\n",
      "Pair: Data\\P003\\SemiRegular\\steps.txt and Data\\P004\\Irregular\\P004_Irregular.txt\n",
      "Pair: Data\\P004\\Irregular\\P004_Irregular.txt and Data\\P004\\Irregular\\steps.txt\n",
      "Pair: Data\\P004\\Irregular\\steps.txt and Data\\P004\\Regular\\P004_Regular.txt\n",
      "Pair: Data\\P004\\Regular\\P004_Regular.txt and Data\\P004\\Regular\\steps.txt\n",
      "Pair: Data\\P004\\Regular\\steps.txt and Data\\P004\\SemiRegular\\P004_Semiregular.txt\n",
      "Pair: Data\\P004\\SemiRegular\\P004_Semiregular.txt and Data\\P004\\SemiRegular\\steps.txt\n",
      "Pair: Data\\P004\\SemiRegular\\steps.txt and Data\\P005\\Irregular\\P005_Irregular.txt\n",
      "Pair: Data\\P005\\Irregular\\P005_Irregular.txt and Data\\P005\\Irregular\\steps.txt\n",
      "Pair: Data\\P005\\Irregular\\steps.txt and Data\\P005\\Regular\\P005_Regular.txt\n",
      "Pair: Data\\P005\\Regular\\P005_Regular.txt and Data\\P005\\Regular\\steps.txt\n",
      "Pair: Data\\P005\\Regular\\steps.txt and Data\\P005\\SemiRegular\\P005_Semiregular.txt\n",
      "Pair: Data\\P005\\SemiRegular\\P005_Semiregular.txt and Data\\P005\\SemiRegular\\steps.txt\n",
      "Pair: Data\\P005\\SemiRegular\\steps.txt and Data\\P006\\Irregular\\P006_Irregular.txt\n",
      "Pair: Data\\P006\\Irregular\\P006_Irregular.txt and Data\\P006\\Irregular\\steps.txt\n",
      "Pair: Data\\P006\\Irregular\\steps.txt and Data\\P006\\Regular\\P006_Regular.txt\n",
      "Pair: Data\\P006\\Regular\\P006_Regular.txt and Data\\P006\\Regular\\steps.txt\n",
      "Pair: Data\\P006\\Regular\\steps.txt and Data\\P006\\SemiRegular\\P006_Semiregular.txt\n",
      "Pair: Data\\P006\\SemiRegular\\P006_Semiregular.txt and Data\\P006\\SemiRegular\\steps.txt\n",
      "Pair: Data\\P006\\SemiRegular\\steps.txt and Data\\P007\\Irregular\\P007_Irregular.txt\n",
      "Pair: Data\\P007\\Irregular\\P007_Irregular.txt and Data\\P007\\Irregular\\steps.txt\n",
      "Pair: Data\\P007\\Irregular\\steps.txt and Data\\P007\\Regular\\P007_Regular.txt\n",
      "Pair: Data\\P007\\Regular\\P007_Regular.txt and Data\\P007\\Regular\\steps.txt\n",
      "Pair: Data\\P007\\Regular\\steps.txt and Data\\P007\\SemiRegular\\P007_Semiregular.txt\n",
      "Pair: Data\\P007\\SemiRegular\\P007_Semiregular.txt and Data\\P007\\SemiRegular\\steps.txt\n",
      "Pair: Data\\P007\\SemiRegular\\steps.txt and Data\\P008\\Irregular\\P008_Irregular.txt\n",
      "Pair: Data\\P008\\Irregular\\P008_Irregular.txt and Data\\P008\\Irregular\\steps.txt\n",
      "Pair: Data\\P008\\Irregular\\steps.txt and Data\\P008\\Regular\\P008_Regular.txt\n",
      "Pair: Data\\P008\\Regular\\P008_Regular.txt and Data\\P008\\Regular\\steps.txt\n",
      "Pair: Data\\P008\\Regular\\steps.txt and Data\\P008\\SemiRegular\\P008_Semiregular.txt\n",
      "Pair: Data\\P008\\SemiRegular\\P008_Semiregular.txt and Data\\P008\\SemiRegular\\steps.txt\n",
      "Pair: Data\\P008\\SemiRegular\\steps.txt and Data\\P009\\Irregular\\P009_Irregular.txt\n",
      "Pair: Data\\P009\\Irregular\\P009_Irregular.txt and Data\\P009\\Irregular\\steps.txt\n",
      "Pair: Data\\P009\\Irregular\\steps.txt and Data\\P009\\Regular\\P009_Regular.txt\n",
      "Pair: Data\\P009\\Regular\\P009_Regular.txt and Data\\P009\\Regular\\steps.txt\n",
      "Pair: Data\\P009\\Regular\\steps.txt and Data\\P009\\SemiRegular\\P009_Semiregular.txt\n",
      "Pair: Data\\P009\\SemiRegular\\P009_Semiregular.txt and Data\\P009\\SemiRegular\\steps.txt\n",
      "Pair: Data\\P009\\SemiRegular\\steps.txt and Data\\P010\\Irregular\\P010_Irregular.txt\n",
      "Pair: Data\\P010\\Irregular\\P010_Irregular.txt and Data\\P010\\Irregular\\steps.txt\n",
      "Pair: Data\\P010\\Irregular\\steps.txt and Data\\P010\\Regular\\P010_Regular.txt\n",
      "Pair: Data\\P010\\Regular\\P010_Regular.txt and Data\\P010\\Regular\\steps.txt\n",
      "Pair: Data\\P010\\Regular\\steps.txt and Data\\P010\\SemiRegular\\P010_Semiregular.txt\n",
      "Pair: Data\\P010\\SemiRegular\\P010_Semiregular.txt and Data\\P010\\SemiRegular\\steps.txt\n",
      "Pair: Data\\P010\\SemiRegular\\steps.txt and Data\\P011\\Irregular\\P011_Irregular.txt\n",
      "Pair: Data\\P011\\Irregular\\P011_Irregular.txt and Data\\P011\\Irregular\\steps.txt\n",
      "Pair: Data\\P011\\Irregular\\steps.txt and Data\\P011\\Regular\\P011_Regular.txt\n",
      "Pair: Data\\P011\\Regular\\P011_Regular.txt and Data\\P011\\Regular\\steps.txt\n",
      "Pair: Data\\P011\\Regular\\steps.txt and Data\\P011\\SemiRegular\\P011_Semiregular.txt\n",
      "Pair: Data\\P011\\SemiRegular\\P011_Semiregular.txt and Data\\P011\\SemiRegular\\steps.txt\n",
      "Pair: Data\\P011\\SemiRegular\\steps.txt and Data\\P012\\Irregular\\P012_Irregular.txt\n",
      "Pair: Data\\P012\\Irregular\\P012_Irregular.txt and Data\\P012\\Irregular\\steps.txt\n",
      "Pair: Data\\P012\\Irregular\\steps.txt and Data\\P012\\Regular\\P012_Regular.txt\n",
      "Pair: Data\\P012\\Regular\\P012_Regular.txt and Data\\P012\\Regular\\steps.txt\n",
      "Pair: Data\\P012\\Regular\\steps.txt and Data\\P012\\SemiRegular\\P012_Semiregular.txt\n",
      "Pair: Data\\P012\\SemiRegular\\P012_Semiregular.txt and Data\\P012\\SemiRegular\\steps.txt\n",
      "Pair: Data\\P012\\SemiRegular\\steps.txt and Data\\P013\\Irregular\\P013_Irregular.txt\n",
      "Pair: Data\\P013\\Irregular\\P013_Irregular.txt and Data\\P013\\Irregular\\steps.txt\n",
      "Pair: Data\\P013\\Irregular\\steps.txt and Data\\P013\\Regular\\P013_Regular.txt\n",
      "Pair: Data\\P013\\Regular\\P013_Regular.txt and Data\\P013\\Regular\\steps.txt\n",
      "Pair: Data\\P013\\Regular\\steps.txt and Data\\P013\\SemiRegular\\P013_Semiregular.txt\n",
      "Pair: Data\\P013\\SemiRegular\\P013_Semiregular.txt and Data\\P013\\SemiRegular\\steps.txt\n",
      "Pair: Data\\P013\\SemiRegular\\steps.txt and Data\\P014\\Irregular\\P014_Irregular.txt\n",
      "Pair: Data\\P014\\Irregular\\P014_Irregular.txt and Data\\P014\\Irregular\\steps.txt\n",
      "Pair: Data\\P014\\Irregular\\steps.txt and Data\\P014\\Regular\\P014_Regular.txt\n",
      "Pair: Data\\P014\\Regular\\P014_Regular.txt and Data\\P014\\Regular\\steps.txt\n",
      "Pair: Data\\P014\\Regular\\steps.txt and Data\\P014\\SemiRegular\\P014_Semiregular.txt\n",
      "Pair: Data\\P014\\SemiRegular\\P014_Semiregular.txt and Data\\P014\\SemiRegular\\steps.txt\n",
      "Pair: Data\\P014\\SemiRegular\\steps.txt and Data\\P015\\Irregular\\P015_Irregular.txt\n",
      "Pair: Data\\P015\\Irregular\\P015_Irregular.txt and Data\\P015\\Irregular\\steps.txt\n",
      "Pair: Data\\P015\\Irregular\\steps.txt and Data\\P015\\Regular\\P015_Regular.txt\n",
      "Pair: Data\\P015\\Regular\\P015_Regular.txt and Data\\P015\\Regular\\steps.txt\n",
      "Pair: Data\\P015\\Regular\\steps.txt and Data\\P015\\SemiRegular\\P015_Semiregular.txt\n",
      "Pair: Data\\P015\\SemiRegular\\P015_Semiregular.txt and Data\\P015\\SemiRegular\\steps.txt\n",
      "Pair: Data\\P015\\SemiRegular\\steps.txt and Data\\P016\\Irregular\\P016_Irregular.txt\n",
      "Pair: Data\\P016\\Irregular\\P016_Irregular.txt and Data\\P016\\Irregular\\steps.txt\n",
      "Pair: Data\\P016\\Irregular\\steps.txt and Data\\P016\\Regular\\P016_Regular.txt\n",
      "Pair: Data\\P016\\Regular\\P016_Regular.txt and Data\\P016\\Regular\\steps.txt\n",
      "Pair: Data\\P016\\Regular\\steps.txt and Data\\P016\\SemiRegular\\P016_Semiregular.txt\n",
      "Pair: Data\\P016\\SemiRegular\\P016_Semiregular.txt and Data\\P016\\SemiRegular\\steps.txt\n",
      "Pair: Data\\P016\\SemiRegular\\steps.txt and Data\\P017\\Irregular\\P017_Irregular.txt\n",
      "Pair: Data\\P017\\Irregular\\P017_Irregular.txt and Data\\P017\\Irregular\\steps.txt\n",
      "Pair: Data\\P017\\Irregular\\steps.txt and Data\\P017\\Regular\\P017_Regular.txt\n",
      "Pair: Data\\P017\\Regular\\P017_Regular.txt and Data\\P017\\Regular\\steps.txt\n",
      "Pair: Data\\P017\\Regular\\steps.txt and Data\\P017\\SemiRegular\\P017_Semiregular.txt\n",
      "Pair: Data\\P017\\SemiRegular\\P017_Semiregular.txt and Data\\P017\\SemiRegular\\steps.txt\n",
      "Pair: Data\\P017\\SemiRegular\\steps.txt and Data\\P018\\Irregular\\P018_Irregular.txt\n",
      "Pair: Data\\P018\\Irregular\\P018_Irregular.txt and Data\\P018\\Irregular\\steps.txt\n",
      "Pair: Data\\P018\\Irregular\\steps.txt and Data\\P018\\Regular\\P018_Regular.txt\n",
      "Pair: Data\\P018\\Regular\\P018_Regular.txt and Data\\P018\\Regular\\steps.txt\n",
      "Pair: Data\\P018\\Regular\\steps.txt and Data\\P018\\SemiRegular\\P018_Semiregular.txt\n",
      "Pair: Data\\P018\\SemiRegular\\P018_Semiregular.txt and Data\\P018\\SemiRegular\\steps.txt\n",
      "Pair: Data\\P018\\SemiRegular\\steps.txt and Data\\P019\\Irregular\\P019_Irregular.txt\n",
      "Pair: Data\\P019\\Irregular\\P019_Irregular.txt and Data\\P019\\Irregular\\steps.txt\n",
      "Pair: Data\\P019\\Irregular\\steps.txt and Data\\P019\\Regular\\P019_Regular.txt\n",
      "Pair: Data\\P019\\Regular\\P019_Regular.txt and Data\\P019\\Regular\\steps.txt\n",
      "Pair: Data\\P019\\Regular\\steps.txt and Data\\P019\\SemiRegular\\P019_Semiregular.txt\n",
      "Pair: Data\\P019\\SemiRegular\\P019_Semiregular.txt and Data\\P019\\SemiRegular\\steps.txt\n",
      "Pair: Data\\P019\\SemiRegular\\steps.txt and Data\\P020\\Irregular\\P020_Irregular.txt\n",
      "Pair: Data\\P020\\Irregular\\P020_Irregular.txt and Data\\P020\\Irregular\\steps.txt\n",
      "Pair: Data\\P020\\Irregular\\steps.txt and Data\\P020\\Regular\\P020_Regular.txt\n",
      "Pair: Data\\P020\\Regular\\P020_Regular.txt and Data\\P020\\Regular\\steps.txt\n",
      "Pair: Data\\P020\\Regular\\steps.txt and Data\\P020\\SemiRegular\\P020_Semiregular.txt\n",
      "Pair: Data\\P020\\SemiRegular\\P020_Semiregular.txt and Data\\P020\\SemiRegular\\steps.txt\n",
      "Pair: Data\\P020\\SemiRegular\\steps.txt and Data\\P021\\Irregular\\P021_Irregular.txt\n",
      "Pair: Data\\P021\\Irregular\\P021_Irregular.txt and Data\\P021\\Irregular\\steps.txt\n",
      "Pair: Data\\P021\\Irregular\\steps.txt and Data\\P021\\Regular\\P021_Regular.txt\n",
      "Pair: Data\\P021\\Regular\\P021_Regular.txt and Data\\P021\\Regular\\steps.txt\n",
      "Pair: Data\\P021\\Regular\\steps.txt and Data\\P021\\SemiRegular\\P021_Semiregular.txt\n",
      "Pair: Data\\P021\\SemiRegular\\P021_Semiregular.txt and Data\\P021\\SemiRegular\\steps.txt\n",
      "Pair: Data\\P021\\SemiRegular\\steps.txt and Data\\P022\\Irregular\\P022_Irregular.txt\n",
      "Pair: Data\\P022\\Irregular\\P022_Irregular.txt and Data\\P022\\Irregular\\steps.txt\n",
      "Pair: Data\\P022\\Irregular\\steps.txt and Data\\P022\\Regular\\P022_Regular.txt\n",
      "Pair: Data\\P022\\Regular\\P022_Regular.txt and Data\\P022\\Regular\\steps.txt\n",
      "Pair: Data\\P022\\Regular\\steps.txt and Data\\P022\\SemiRegular\\P022_Semiregular.txt\n",
      "Pair: Data\\P022\\SemiRegular\\P022_Semiregular.txt and Data\\P022\\SemiRegular\\steps.txt\n",
      "Pair: Data\\P022\\SemiRegular\\steps.txt and Data\\P023\\Irregular\\P023_Irregular.txt\n",
      "Pair: Data\\P023\\Irregular\\P023_Irregular.txt and Data\\P023\\Irregular\\steps.txt\n",
      "Pair: Data\\P023\\Irregular\\steps.txt and Data\\P023\\Regular\\P023_Regular.txt\n",
      "Pair: Data\\P023\\Regular\\P023_Regular.txt and Data\\P023\\Regular\\steps.txt\n",
      "Pair: Data\\P023\\Regular\\steps.txt and Data\\P023\\SemiRegular\\P023_Semiregular.txt\n",
      "Pair: Data\\P023\\SemiRegular\\P023_Semiregular.txt and Data\\P023\\SemiRegular\\steps.txt\n",
      "Pair: Data\\P023\\SemiRegular\\steps.txt and Data\\P024\\Irregular\\P024_Irregular.txt\n",
      "Pair: Data\\P024\\Irregular\\P024_Irregular.txt and Data\\P024\\Irregular\\steps.txt\n",
      "Pair: Data\\P024\\Irregular\\steps.txt and Data\\P024\\Regular\\P024_Regular.txt\n",
      "Pair: Data\\P024\\Regular\\P024_Regular.txt and Data\\P024\\Regular\\steps.txt\n",
      "Pair: Data\\P024\\Regular\\steps.txt and Data\\P024\\SemiRegular\\P024_Semiregular.txt\n",
      "Pair: Data\\P024\\SemiRegular\\P024_Semiregular.txt and Data\\P024\\SemiRegular\\steps.txt\n",
      "Pair: Data\\P024\\SemiRegular\\steps.txt and Data\\P025\\Irregular\\P025_Irregular.txt\n",
      "Pair: Data\\P025\\Irregular\\P025_Irregular.txt and Data\\P025\\Irregular\\steps.txt\n",
      "Pair: Data\\P025\\Irregular\\steps.txt and Data\\P025\\Regular\\P025_Regular.txt\n",
      "Pair: Data\\P025\\Regular\\P025_Regular.txt and Data\\P025\\Regular\\steps.txt\n",
      "Pair: Data\\P025\\Regular\\steps.txt and Data\\P025\\SemiRegular\\P025_Semiregular.txt\n",
      "Pair: Data\\P025\\SemiRegular\\P025_Semiregular.txt and Data\\P025\\SemiRegular\\steps.txt\n",
      "Pair: Data\\P025\\SemiRegular\\steps.txt and Data\\P026\\Irregular\\P026_Irregular.txt\n",
      "Pair: Data\\P026\\Irregular\\P026_Irregular.txt and Data\\P026\\Irregular\\steps.txt\n",
      "Pair: Data\\P026\\Irregular\\steps.txt and Data\\P026\\Regular\\P026_Regular.txt\n",
      "Pair: Data\\P026\\Regular\\P026_Regular.txt and Data\\P026\\Regular\\steps.txt\n",
      "Pair: Data\\P026\\Regular\\steps.txt and Data\\P026\\SemiRegular\\P026_Semiregular.txt\n",
      "Pair: Data\\P026\\SemiRegular\\P026_Semiregular.txt and Data\\P026\\SemiRegular\\steps.txt\n",
      "Pair: Data\\P026\\SemiRegular\\steps.txt and Data\\P027\\Irregular\\P027_Irregular.txt\n",
      "Pair: Data\\P027\\Irregular\\P027_Irregular.txt and Data\\P027\\Irregular\\steps.txt\n",
      "Pair: Data\\P027\\Irregular\\steps.txt and Data\\P027\\Regular\\P027_Regular.txt\n",
      "Pair: Data\\P027\\Regular\\P027_Regular.txt and Data\\P027\\Regular\\steps.txt\n",
      "Pair: Data\\P027\\Regular\\steps.txt and Data\\P027\\SemiRegular\\P027_Semiregular.txt\n",
      "Pair: Data\\P027\\SemiRegular\\P027_Semiregular.txt and Data\\P027\\SemiRegular\\steps.txt\n",
      "Pair: Data\\P027\\SemiRegular\\steps.txt and Data\\P028\\Irregular\\P028_Irregular.txt\n",
      "Pair: Data\\P028\\Irregular\\P028_Irregular.txt and Data\\P028\\Irregular\\steps.txt\n",
      "Pair: Data\\P028\\Irregular\\steps.txt and Data\\P028\\Regular\\P028_Regular.txt\n",
      "Pair: Data\\P028\\Regular\\P028_Regular.txt and Data\\P028\\Regular\\steps.txt\n",
      "Pair: Data\\P028\\Regular\\steps.txt and Data\\P028\\SemiRegular\\P028_Semiregular.txt\n",
      "Pair: Data\\P028\\SemiRegular\\P028_Semiregular.txt and Data\\P028\\SemiRegular\\steps.txt\n",
      "Pair: Data\\P028\\SemiRegular\\steps.txt and Data\\P029\\Irregular\\P029_Irregular.txt\n",
      "Pair: Data\\P029\\Irregular\\P029_Irregular.txt and Data\\P029\\Irregular\\steps.txt\n",
      "Pair: Data\\P029\\Irregular\\steps.txt and Data\\P029\\Regular\\P029_Regular.txt\n",
      "Pair: Data\\P029\\Regular\\P029_Regular.txt and Data\\P029\\Regular\\steps.txt\n",
      "Pair: Data\\P029\\Regular\\steps.txt and Data\\P029\\SemiRegular\\P029_Semiregular.txt\n",
      "Pair: Data\\P029\\SemiRegular\\P029_Semiregular.txt and Data\\P029\\SemiRegular\\steps.txt\n",
      "Pair: Data\\P029\\SemiRegular\\steps.txt and Data\\P030\\Irregular\\P030_Irregular.txt\n",
      "Pair: Data\\P030\\Irregular\\P030_Irregular.txt and Data\\P030\\Irregular\\steps.txt\n",
      "Pair: Data\\P030\\Irregular\\steps.txt and Data\\P030\\Regular\\P030_Regular.txt\n",
      "Pair: Data\\P030\\Regular\\P030_Regular.txt and Data\\P030\\Regular\\steps.txt\n",
      "Pair: Data\\P030\\Regular\\steps.txt and Data\\P030\\SemiRegular\\P030_Semiregular.txt\n",
      "Pair: Data\\P030\\SemiRegular\\P030_Semiregular.txt and Data\\P030\\SemiRegular\\steps.txt\n"
     ]
    }
   ],
   "source": [
    "PATH = \"Data\"\n",
    "all_files = [os.path.join(dp, f) for dp, dn, filenames in os.walk(PATH) for f in filenames if os.path.splitext(f)[1] == '.txt']\n",
    "# Create pairs of consecutive files\n",
    "file_pairs = [(all_files[i], all_files[i + 1]) for i in range(len(all_files) - 1)]\n",
    "\n",
    "# Print the pairs\n",
    "for pair in file_pairs:\n",
    "    print(f\"Pair: {pair[0]} and {pair[1]}\")"
   ],
   "metadata": {
    "collapsed": false,
    "ExecuteTime": {
     "end_time": "2024-02-27T10:36:58.824560300Z",
     "start_time": "2024-02-27T10:36:58.799427900Z"
    }
   },
   "id": "1ef4f9994b4a9c57"
  },
  {
   "cell_type": "code",
   "execution_count": 225,
   "outputs": [],
   "source": [
    "meter_df = pd.read_csv(file_pairs[0][0], sep=' ')\n",
    "steps_df = pd.read_csv(file_pairs[0][1], sep=' ')"
   ],
   "metadata": {
    "collapsed": false,
    "ExecuteTime": {
     "end_time": "2024-02-27T10:36:58.856453400Z",
     "start_time": "2024-02-27T10:36:58.828547600Z"
    }
   },
   "id": "76aadab12465e7d7"
  },
  {
   "cell_type": "code",
   "execution_count": 226,
   "outputs": [],
   "source": [
    "start = 0\n",
    "end = len(meter_df)"
   ],
   "metadata": {
    "collapsed": false,
    "ExecuteTime": {
     "end_time": "2024-02-27T10:36:58.873397800Z",
     "start_time": "2024-02-27T10:36:58.859444400Z"
    }
   },
   "id": "ab1ff2ae1479f7ac"
  },
  {
   "cell_type": "markdown",
   "source": [],
   "metadata": {
    "collapsed": false
   },
   "id": "540006408cfc5b5f"
  },
  {
   "cell_type": "code",
   "execution_count": 256,
   "outputs": [],
   "source": [
    "import numpy as np\n",
    "\n",
    "\n",
    "def getSteps(file_pair):\n",
    "    meter = pd.read_csv(file_pair[0], sep=' ')\n",
    "    steps = pd.read_csv(file_pair[1], sep=' ').iloc[:, 0]\n",
    "    data1 = meter.iloc[:, 6] ** 2 + meter.iloc[:, 7] ** 2 + meter.iloc[:, 8] ** 2\n",
    "    accelerometer = data1.apply(lambda x: x ** 0.5)\n",
    "    data1 = msl.apply_filter(accelerometer, [-0.00614041469794508,\t-0.0135816744769618,\t0.0512322973427179,\t0.265655560905451,\t0.405668461853476,\t0.265655560905451,\t0.0512322973427179,\t-0.0135816744769618,-0.00614041469794508])\n",
    "    data1 = msl.modified_pan_tompkins_scoring(data1, 35)\n",
    "    data1 = msl.detect_outliers(data1, 1.2)\n",
    "    data1 = msl.post_processing(data1, 200, 15)\n",
    "    indices = np.where(data1 == 1)[0]\n",
    "\n",
    "\n",
    "    return indices, steps , accelerometer"
   ],
   "metadata": {
    "collapsed": false,
    "ExecuteTime": {
     "end_time": "2024-02-27T11:34:09.895422600Z",
     "start_time": "2024-02-27T11:34:09.885457400Z"
    }
   },
   "id": "a1227df95beb9344"
  },
  {
   "cell_type": "code",
   "execution_count": 249,
   "outputs": [],
   "source": [
    "def chart(data_in):\n",
    "    (calculated, expected, accelerometer) = data_in\n",
    "    x=range(len(accelerometer))\n",
    "    y=accelerometer\n",
    "    plt.figure(figsize=(10,5))\n",
    "    plt.plot(x,y, color='red', marker='o')\n",
    "    plt.xlabel('index')\n",
    "    plt.ylabel('magnitude')\n",
    "    #show x label every 800\n",
    "    plt.xticks(x[::500])\n",
    "    plt.xticks(rotation=90)\n",
    "    #add rectangles\n",
    "    for e in expected:\n",
    "        plt.axvline(x =e, color ='g', label ='axvline - full height', ymin=0.5, alpha=0.8)\n",
    "    for c in calculated:\n",
    "        plt.axvline(x =c, color ='b', label ='axvline - full height', ymax=0.5, alpha=0.8)\n",
    "    plt.show()"
   ],
   "metadata": {
    "collapsed": false,
    "ExecuteTime": {
     "end_time": "2024-02-27T11:00:56.014392Z",
     "start_time": "2024-02-27T11:00:56.003431300Z"
    }
   },
   "id": "5fc192c583576a67"
  },
  {
   "cell_type": "code",
   "execution_count": 229,
   "outputs": [],
   "source": [
    "data = meter_df.iloc[:, 0]**2 + meter_df.iloc[:, 1]**2 + meter_df.iloc[:, 2]**2\n",
    "data = data.apply(lambda x: x**0.5)\n",
    "\n"
   ],
   "metadata": {
    "collapsed": false,
    "ExecuteTime": {
     "end_time": "2024-02-27T10:36:58.908169400Z",
     "start_time": "2024-02-27T10:36:58.891982400Z"
    }
   },
   "id": "8dae06f18a7d730e"
  },
  {
   "cell_type": "code",
   "execution_count": 230,
   "outputs": [],
   "source": [
    "#apply filter 0.0158467315853596\t0.0457943754888393\t0.121235976281198\t0.200244477464560\t0.233756878360087\t0.200244477464560\t0.121235976281198\t0.0457943754888393\t0.0158467315853596\n",
    "data = msl.apply_filter(data, [0.0158467315853596,0.0457943754888393,0.121235976281198,0.200244477464560,0.233756878360087,0.200244477464560,0.121235976281198,0.0457943754888393,0.0158467315853596])\n",
    "#chart(data)"
   ],
   "metadata": {
    "collapsed": false,
    "ExecuteTime": {
     "end_time": "2024-02-27T10:36:59.133783900Z",
     "start_time": "2024-02-27T10:36:58.905179700Z"
    }
   },
   "id": "d114dbfb644fe8c6"
  },
  {
   "cell_type": "code",
   "execution_count": 231,
   "outputs": [],
   "source": [
    "data = msl.maximum_difference(data, 35)"
   ],
   "metadata": {
    "collapsed": false,
    "ExecuteTime": {
     "end_time": "2024-02-27T10:36:59.333611900Z",
     "start_time": "2024-02-27T10:36:59.135730800Z"
    }
   },
   "id": "4ff167a0dce0a4ab"
  },
  {
   "cell_type": "code",
   "execution_count": 232,
   "outputs": [],
   "source": [
    "data = msl.detect_outliers(data, 1.2)\n",
    "#chart(data)"
   ],
   "metadata": {
    "collapsed": false,
    "ExecuteTime": {
     "end_time": "2024-02-27T10:36:59.343535200Z",
     "start_time": "2024-02-27T10:36:59.335604300Z"
    }
   },
   "id": "caed41b9bfd60b00"
  },
  {
   "cell_type": "code",
   "execution_count": 233,
   "outputs": [],
   "source": [
    "\n",
    "data = msl.post_processing(data, 200, 15)\n",
    "#chart(data)"
   ],
   "metadata": {
    "collapsed": false,
    "ExecuteTime": {
     "end_time": "2024-02-27T10:36:59.351949800Z",
     "start_time": "2024-02-27T10:36:59.342538200Z"
    }
   },
   "id": "5c6e177f85697fa8"
  },
  {
   "cell_type": "code",
   "execution_count": 252,
   "outputs": [],
   "source": [
    "chart(getSteps(file_pairs[8]))"
   ],
   "metadata": {
    "collapsed": false,
    "ExecuteTime": {
     "end_time": "2024-02-27T11:32:44.980745100Z",
     "start_time": "2024-02-27T11:32:43.967353400Z"
    }
   },
   "id": "3f073d2206d82e9a"
  },
  {
   "cell_type": "code",
   "execution_count": 265,
   "outputs": [
    {
     "name": "stdout",
     "output_type": "stream",
     "text": [
      "0 198 150 Data\\P001\\Irregular\\P001_Irregular.txt\n",
      "2 936 480 Data\\P001\\Regular\\P001_Regular.txt\n",
      "4 702 289 Data\\P001\\SemiRegular\\P001_Semiregular.txt\n",
      "6 216 211 Data\\P002\\Irregular\\P002_Irregular.txt\n",
      "8 1223 581 Data\\P002\\Regular\\P002_Regular.txt\n",
      "10 646 239 Data\\P002\\SemiRegular\\P002_Semiregular.txt\n",
      "12 223 145 Data\\P003\\Irregular\\P003_Irregular.txt\n",
      "14 1052 527 Data\\P003\\Regular\\P003_Regular.txt\n",
      "16 715 265 Data\\P003\\SemiRegular\\P003_Semiregular.txt\n",
      "18 227 185 Data\\P004\\Irregular\\P004_Irregular.txt\n",
      "20 1100 499 Data\\P004\\Regular\\P004_Regular.txt\n",
      "22 613 288 Data\\P004\\SemiRegular\\P004_Semiregular.txt\n",
      "24 216 181 Data\\P005\\Irregular\\P005_Irregular.txt\n",
      "26 1043 536 Data\\P005\\Regular\\P005_Regular.txt\n",
      "28 667 273 Data\\P005\\SemiRegular\\P005_Semiregular.txt\n",
      "30 194 162 Data\\P006\\Irregular\\P006_Irregular.txt\n",
      "32 913 472 Data\\P006\\Regular\\P006_Regular.txt\n",
      "34 700 368 Data\\P006\\SemiRegular\\P006_Semiregular.txt\n",
      "36 222 210 Data\\P007\\Irregular\\P007_Irregular.txt\n",
      "38 1228 612 Data\\P007\\Regular\\P007_Regular.txt\n",
      "40 759 307 Data\\P007\\SemiRegular\\P007_Semiregular.txt\n",
      "42 242 201 Data\\P008\\Irregular\\P008_Irregular.txt\n",
      "44 1033 500 Data\\P008\\Regular\\P008_Regular.txt\n",
      "46 824 352 Data\\P008\\SemiRegular\\P008_Semiregular.txt\n",
      "48 265 213 Data\\P009\\Irregular\\P009_Irregular.txt\n",
      "50 1106 529 Data\\P009\\Regular\\P009_Regular.txt\n",
      "52 700 241 Data\\P009\\SemiRegular\\P009_Semiregular.txt\n",
      "54 246 181 Data\\P010\\Irregular\\P010_Irregular.txt\n",
      "56 1013 498 Data\\P010\\Regular\\P010_Regular.txt\n",
      "58 655 284 Data\\P010\\SemiRegular\\P010_Semiregular.txt\n",
      "60 238 188 Data\\P011\\Irregular\\P011_Irregular.txt\n",
      "62 1069 531 Data\\P011\\Regular\\P011_Regular.txt\n",
      "64 699 342 Data\\P011\\SemiRegular\\P011_Semiregular.txt\n",
      "66 203 201 Data\\P012\\Irregular\\P012_Irregular.txt\n",
      "68 1006 503 Data\\P012\\Regular\\P012_Regular.txt\n",
      "70 640 266 Data\\P012\\SemiRegular\\P012_Semiregular.txt\n",
      "72 215 200 Data\\P013\\Irregular\\P013_Irregular.txt\n",
      "74 999 519 Data\\P013\\Regular\\P013_Regular.txt\n",
      "76 814 366 Data\\P013\\SemiRegular\\P013_Semiregular.txt\n",
      "78 216 182 Data\\P014\\Irregular\\P014_Irregular.txt\n"
     ]
    },
    {
     "ename": "KeyboardInterrupt",
     "evalue": "",
     "output_type": "error",
     "traceback": [
      "\u001B[1;31m---------------------------------------------------------------------------\u001B[0m",
      "\u001B[1;31mKeyboardInterrupt\u001B[0m                         Traceback (most recent call last)",
      "Cell \u001B[1;32mIn[265], line 2\u001B[0m\n\u001B[0;32m      1\u001B[0m \u001B[38;5;28;01mfor\u001B[39;00m i \u001B[38;5;129;01min\u001B[39;00m \u001B[38;5;28mrange\u001B[39m(\u001B[38;5;241m0\u001B[39m,\u001B[38;5;28mlen\u001B[39m(file_pairs),\u001B[38;5;241m2\u001B[39m):\n\u001B[1;32m----> 2\u001B[0m     (calculated, expected, _) \u001B[38;5;241m=\u001B[39m getSteps(file_pairs[i])\n\u001B[0;32m      4\u001B[0m     \u001B[38;5;28mprint\u001B[39m(i, \u001B[38;5;28mlen\u001B[39m(expected), \u001B[38;5;28mlen\u001B[39m(calculated), file_pairs[i][\u001B[38;5;241m0\u001B[39m])\n",
      "Cell \u001B[1;32mIn[256], line 9\u001B[0m, in \u001B[0;36mgetSteps\u001B[1;34m(file_pair)\u001B[0m\n\u001B[0;32m      7\u001B[0m data1 \u001B[38;5;241m=\u001B[39m meter\u001B[38;5;241m.\u001B[39miloc[:, \u001B[38;5;241m6\u001B[39m] \u001B[38;5;241m*\u001B[39m\u001B[38;5;241m*\u001B[39m \u001B[38;5;241m2\u001B[39m \u001B[38;5;241m+\u001B[39m meter\u001B[38;5;241m.\u001B[39miloc[:, \u001B[38;5;241m7\u001B[39m] \u001B[38;5;241m*\u001B[39m\u001B[38;5;241m*\u001B[39m \u001B[38;5;241m2\u001B[39m \u001B[38;5;241m+\u001B[39m meter\u001B[38;5;241m.\u001B[39miloc[:, \u001B[38;5;241m8\u001B[39m] \u001B[38;5;241m*\u001B[39m\u001B[38;5;241m*\u001B[39m \u001B[38;5;241m2\u001B[39m\n\u001B[0;32m      8\u001B[0m accelerometer \u001B[38;5;241m=\u001B[39m data1\u001B[38;5;241m.\u001B[39mapply(\u001B[38;5;28;01mlambda\u001B[39;00m x: x \u001B[38;5;241m*\u001B[39m\u001B[38;5;241m*\u001B[39m \u001B[38;5;241m0.5\u001B[39m)\n\u001B[1;32m----> 9\u001B[0m data1 \u001B[38;5;241m=\u001B[39m msl\u001B[38;5;241m.\u001B[39mapply_filter(accelerometer, [\u001B[38;5;241m-\u001B[39m\u001B[38;5;241m0.00614041469794508\u001B[39m,\t\u001B[38;5;241m-\u001B[39m\u001B[38;5;241m0.0135816744769618\u001B[39m,\t\u001B[38;5;241m0.0512322973427179\u001B[39m,\t\u001B[38;5;241m0.265655560905451\u001B[39m,\t\u001B[38;5;241m0.405668461853476\u001B[39m,\t\u001B[38;5;241m0.265655560905451\u001B[39m,\t\u001B[38;5;241m0.0512322973427179\u001B[39m,\t\u001B[38;5;241m-\u001B[39m\u001B[38;5;241m0.0135816744769618\u001B[39m,\u001B[38;5;241m-\u001B[39m\u001B[38;5;241m0.00614041469794508\u001B[39m])\n\u001B[0;32m     10\u001B[0m data1 \u001B[38;5;241m=\u001B[39m msl\u001B[38;5;241m.\u001B[39mmodified_pan_tompkins_scoring(data1, \u001B[38;5;241m35\u001B[39m)\n\u001B[0;32m     11\u001B[0m data1 \u001B[38;5;241m=\u001B[39m msl\u001B[38;5;241m.\u001B[39mdetect_outliers(data1, \u001B[38;5;241m1.2\u001B[39m)\n",
      "File \u001B[1;32m~\\DataspellProjects\\SheepRunDetection\\steplib.py:15\u001B[0m, in \u001B[0;36mapply_filter\u001B[1;34m(data_buffer, coefficients)\u001B[0m\n\u001B[0;32m     13\u001B[0m \u001B[38;5;66;03m# Apply the filter\u001B[39;00m\n\u001B[0;32m     14\u001B[0m \u001B[38;5;28;01mfor\u001B[39;00m i \u001B[38;5;129;01min\u001B[39;00m \u001B[38;5;28mrange\u001B[39m(\u001B[38;5;28mlen\u001B[39m(coefficients), \u001B[38;5;28mlen\u001B[39m(data_buffer)):\n\u001B[1;32m---> 15\u001B[0m     filtered_data[i] \u001B[38;5;241m=\u001B[39m np\u001B[38;5;241m.\u001B[39mdot(data_buffer[i \u001B[38;5;241m-\u001B[39m \u001B[38;5;28mlen\u001B[39m(coefficients):i], coefficients[::\u001B[38;5;241m-\u001B[39m\u001B[38;5;241m1\u001B[39m])\n\u001B[0;32m     16\u001B[0m filtered_data[\u001B[38;5;241m0\u001B[39m] \u001B[38;5;241m=\u001B[39m \u001B[38;5;241m1\u001B[39m\n\u001B[0;32m     17\u001B[0m \u001B[38;5;28;01mreturn\u001B[39;00m filtered_data\n",
      "File \u001B[1;32m<__array_function__ internals>:200\u001B[0m, in \u001B[0;36mdot\u001B[1;34m(*args, **kwargs)\u001B[0m\n",
      "\u001B[1;31mKeyboardInterrupt\u001B[0m: "
     ]
    }
   ],
   "source": [
    "for i in range(0,len(file_pairs),2):\n",
    "    (calculated, expected, _) = getSteps(file_pairs[i])\n",
    "    \n",
    "    print(i, len(expected), len(calculated), file_pairs[i][0])"
   ],
   "metadata": {
    "collapsed": false,
    "ExecuteTime": {
     "end_time": "2024-02-27T12:24:35.268494800Z",
     "start_time": "2024-02-27T12:24:24.091637100Z"
    }
   },
   "id": "13be95fa77028960"
  },
  {
   "cell_type": "code",
   "execution_count": 264,
   "outputs": [
    {
     "data": {
      "text/plain": "<Figure size 1000x500 with 1 Axes>",
      "image/png": "[encoded data removed]"
     },
     "metadata": {},
     "output_type": "display_data"
    }
   ],
   "source": [
    "%matplotlib inline\n",
    "chart(getSteps(file_pairs[30]))"
   ],
   "metadata": {
    "collapsed": false,
    "ExecuteTime": {
     "end_time": "2024-02-27T12:15:17.660774100Z",
     "start_time": "2024-02-27T12:15:16.990187300Z"
    }
   },
   "id": "aa7431cb704aa798"
  },
  {
   "cell_type": "code",
   "execution_count": null,
   "outputs": [],
   "source": [],
   "metadata": {
    "collapsed": false
   },
   "id": "e1f5756fd3dfb587"
  }
 ],
 "metadata": {
  "kernelspec": {
   "display_name": "Python 3",
   "language": "python",
   "name": "python3"
  },
  "language_info": {
   "codemirror_mode": {
    "name": "ipython",
    "version": 2
   },
   "file_extension": ".py",
   "mimetype": "text/x-python",
   "name": "python",
   "nbconvert_exporter": "python",
   "pygments_lexer": "ipython2",
   "version": "2.7.6"
  }
 },
 "nbformat": 4,
 "nbformat_minor": 5
}
