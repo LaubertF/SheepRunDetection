{
 "cells": [
  {
   "cell_type": "code",
   "execution_count": 1,
   "outputs": [],
   "source": [
    "import pandas as pd\n",
    "import matplotlib.pyplot as plt\n",
    "import steplib as msl\n",
    "%matplotlib inline"
   ],
   "metadata": {
    "collapsed": false,
    "ExecuteTime": {
     "end_time": "2024-04-19T10:11:53.909154Z",
     "start_time": "2024-04-19T10:11:53.193232800Z"
    }
   },
   "id": "c26503a008ab1f84"
  },
  {
   "cell_type": "markdown",
   "source": [],
   "metadata": {
    "collapsed": false
   },
   "id": "91c8479a08a86fa2"
  },
  {
   "cell_type": "code",
   "execution_count": 11,
   "outputs": [],
   "source": [
    "meter_df = pd.read_csv(\"DataOx/Wrist_100Hz/P01_wrist100.csv\")\n",
    "#state_df = pd.read_csv('Sheep/state.csv',sep=';')\n",
    "steps_df = pd.read_csv(\"Sheep/GroundMax.csv\")"
   ],
   "metadata": {
    "collapsed": false,
    "ExecuteTime": {
     "end_time": "2024-04-19T10:16:02.818593700Z",
     "start_time": "2024-04-19T10:16:02.572040900Z"
    }
   },
   "id": "76aadab12465e7d7"
  },
  {
   "cell_type": "code",
   "execution_count": 12,
   "outputs": [],
   "source": [
    "def chart(calculated, expected, accelerometer):\n",
    "    startDate = pd.to_datetime(meter_df['timestamp'][0])#1933 for max\n",
    "    x=pd.to_datetime(meter_df['timestamp']).map(lambda x: x-startDate).dt.total_seconds()\n",
    "    y=accelerometer\n",
    "    plt.figure(figsize=(10,5))\n",
    "    plt.plot(x,y, color='red', marker='o')\n",
    "    for e in expected:\n",
    "        plt.axvline(x =x[e], color ='g', label ='axvline - full height', ymin=0.5, alpha=0.8)\n",
    "    for c in calculated:\n",
    "        plt.axvline(x =x[c], color ='b', label ='axvline - full height', ymax=0.5, alpha=0.8)\n",
    "    plt.show()"
   ],
   "metadata": {
    "collapsed": false,
    "ExecuteTime": {
     "end_time": "2024-04-19T10:16:04.593598800Z",
     "start_time": "2024-04-19T10:16:04.582598700Z"
    }
   },
   "id": "1d322552994a008"
  },
  {
   "cell_type": "code",
   "execution_count": 13,
   "outputs": [],
   "source": [
    "data_in = msl.getSteps(\"DataOx/Wrist_100Hz/P01_wrist100.csv\", 20, 1.15, \"annotation\")\n"
   ],
   "metadata": {
    "collapsed": false,
    "ExecuteTime": {
     "end_time": "2024-04-19T10:16:20.959141200Z",
     "start_time": "2024-04-19T10:16:05.107689200Z"
    }
   },
   "id": "9e4c4189c055fe1e"
  },
  {
   "cell_type": "markdown",
   "source": [],
   "metadata": {
    "collapsed": false
   },
   "id": "d81f0e3c06810be2"
  },
  {
   "cell_type": "code",
   "execution_count": 5,
   "outputs": [],
   "source": [
    "(calculated, expected, accelerometer) = data_in"
   ],
   "metadata": {
    "collapsed": false,
    "ExecuteTime": {
     "end_time": "2024-04-19T10:12:09.648175700Z",
     "start_time": "2024-04-19T10:12:09.647154500Z"
    }
   },
   "id": "c562b33407cfb87d"
  },
  {
   "cell_type": "markdown",
   "source": [],
   "metadata": {
    "collapsed": false
   },
   "id": "2b64e573a4ae171b"
  },
  {
   "cell_type": "code",
   "execution_count": 14,
   "outputs": [],
   "source": [
    "%matplotlib qt\n",
    "chart(calculated, expected, accelerometer)\n",
    "\n"
   ],
   "metadata": {
    "collapsed": false,
    "ExecuteTime": {
     "end_time": "2024-04-19T10:16:49.737161700Z",
     "start_time": "2024-04-19T10:16:47.461434300Z"
    }
   },
   "id": "aaa673a0184fe063"
  },
  {
   "cell_type": "code",
   "execution_count": null,
   "outputs": [],
   "source": [],
   "metadata": {
    "collapsed": false
   },
   "id": "fcbc6cdca3d755e4"
  }
 ],
 "metadata": {
  "kernelspec": {
   "display_name": "Python 3",
   "language": "python",
   "name": "python3"
  },
  "language_info": {
   "codemirror_mode": {
    "name": "ipython",
    "version": 2
   },
   "file_extension": ".py",
   "mimetype": "text/x-python",
   "name": "python",
   "nbconvert_exporter": "python",
   "pygments_lexer": "ipython2",
   "version": "2.7.6"
  }
 },
 "nbformat": 4,
 "nbformat_minor": 5
}
